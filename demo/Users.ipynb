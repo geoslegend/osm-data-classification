{
 "cells": [
  {
   "cell_type": "markdown",
   "metadata": {},
   "source": [
    "# OSM Users / Aquitaine (Fr)"
   ]
  },
  {
   "cell_type": "code",
   "execution_count": 6,
   "metadata": {
    "collapsed": true
   },
   "outputs": [],
   "source": [
    "import math"
   ]
  },
  {
   "cell_type": "code",
   "execution_count": 7,
   "metadata": {
    "collapsed": true
   },
   "outputs": [],
   "source": [
    "import pandas as pd\n",
    "import numpy as np"
   ]
  },
  {
   "cell_type": "code",
   "execution_count": 8,
   "metadata": {
    "collapsed": true
   },
   "outputs": [],
   "source": [
    "from sklearn.decomposition import PCA\n",
    "from sklearn.cluster import KMeans\n",
    "from sklearn.preprocessing import RobustScaler\n",
    "from sklearn.metrics.pairwise import pairwise_distances_argmin"
   ]
  },
  {
   "cell_type": "code",
   "execution_count": 9,
   "metadata": {},
   "outputs": [
    {
     "name": "stderr",
     "output_type": "stream",
     "text": [
      "/usr/lib/python2.7/dist-packages/matplotlib/__init__.py:874: UserWarning: axes.color_cycle is deprecated and replaced with axes.prop_cycle; please use the latter.\n",
      "  warnings.warn(self.msg_depr % (key, alt_key))\n"
     ]
    }
   ],
   "source": [
    "%matplotlib inline\n",
    "from matplotlib import pyplot as plt\n",
    "import seaborn as sns"
   ]
  },
  {
   "cell_type": "code",
   "execution_count": 10,
   "metadata": {
    "collapsed": true
   },
   "outputs": [],
   "source": [
    "sns.set_context('talk')"
   ]
  },
  {
   "cell_type": "markdown",
   "metadata": {},
   "source": [
    "## Load data & transformation"
   ]
  },
  {
   "cell_type": "markdown",
   "metadata": {},
   "source": [
    "* Lecture des données\n",
    "* convertir les colonnes qui vont bien en date\n",
    "* transformer les champs timedelta en nb de jours"
   ]
  },
  {
   "cell_type": "code",
   "execution_count": 11,
   "metadata": {
    "collapsed": true
   },
   "outputs": [],
   "source": [
    "fname = \"./aquitaine-md-users.csv\""
   ]
  },
  {
   "cell_type": "code",
   "execution_count": 12,
   "metadata": {
    "collapsed": true
   },
   "outputs": [],
   "source": [
    "# total number of changeset by user (planet osm full history)\n",
    "changeset_user_hist_fname = \"./all-users-count-changesets.csv\""
   ]
  },
  {
   "cell_type": "code",
   "execution_count": 13,
   "metadata": {},
   "outputs": [],
   "source": [
    "# index of the date-type columns\n",
    "FIRST_AT = 20\n",
    "LAST_AT = 21\n",
    "EXTRACTION_DATE = pd.Timestamp('2017-03-23')"
   ]
  },
  {
   "cell_type": "code",
   "execution_count": 9,
   "metadata": {},
   "outputs": [
    {
     "ename": "IOError",
     "evalue": "File ./aquitaine-md-users.csv does not exist",
     "output_type": "error",
     "traceback": [
      "\u001b[0;31m---------------------------------------------------------------------------\u001b[0m\n\u001b[0;31mIOError\u001b[0m                                   Traceback (most recent call last)",
      "\u001b[0;32m<ipython-input-9-956ef3a2b179>\u001b[0m in \u001b[0;36m<module>\u001b[0;34m()\u001b[0m\n\u001b[1;32m      1\u001b[0m users = pd.read_csv(fname,\n\u001b[1;32m      2\u001b[0m                     \u001b[0mindex_col\u001b[0m\u001b[0;34m=\u001b[0m\u001b[0;36m0\u001b[0m\u001b[0;34m,\u001b[0m\u001b[0;34m\u001b[0m\u001b[0m\n\u001b[0;32m----> 3\u001b[0;31m                     parse_dates=[FIRST_AT, LAST_AT])\n\u001b[0m\u001b[1;32m      4\u001b[0m \u001b[0musers\u001b[0m\u001b[0;34m.\u001b[0m\u001b[0mshape\u001b[0m\u001b[0;34m\u001b[0m\u001b[0m\n",
      "\u001b[0;32m/usr/lib/python2.7/dist-packages/pandas/io/parsers.pyc\u001b[0m in \u001b[0;36mparser_f\u001b[0;34m(filepath_or_buffer, sep, dialect, compression, doublequote, escapechar, quotechar, quoting, skipinitialspace, lineterminator, header, index_col, names, prefix, skiprows, skipfooter, skip_footer, na_values, true_values, false_values, delimiter, converters, dtype, usecols, engine, delim_whitespace, as_recarray, na_filter, compact_ints, use_unsigned, low_memory, buffer_lines, warn_bad_lines, error_bad_lines, keep_default_na, thousands, comment, decimal, parse_dates, keep_date_col, dayfirst, date_parser, memory_map, float_precision, nrows, iterator, chunksize, verbose, encoding, squeeze, mangle_dupe_cols, tupleize_cols, infer_datetime_format, skip_blank_lines)\u001b[0m\n\u001b[1;32m    496\u001b[0m                     skip_blank_lines=skip_blank_lines)\n\u001b[1;32m    497\u001b[0m \u001b[0;34m\u001b[0m\u001b[0m\n\u001b[0;32m--> 498\u001b[0;31m         \u001b[0;32mreturn\u001b[0m \u001b[0m_read\u001b[0m\u001b[0;34m(\u001b[0m\u001b[0mfilepath_or_buffer\u001b[0m\u001b[0;34m,\u001b[0m \u001b[0mkwds\u001b[0m\u001b[0;34m)\u001b[0m\u001b[0;34m\u001b[0m\u001b[0m\n\u001b[0m\u001b[1;32m    499\u001b[0m \u001b[0;34m\u001b[0m\u001b[0m\n\u001b[1;32m    500\u001b[0m     \u001b[0mparser_f\u001b[0m\u001b[0;34m.\u001b[0m\u001b[0m__name__\u001b[0m \u001b[0;34m=\u001b[0m \u001b[0mname\u001b[0m\u001b[0;34m\u001b[0m\u001b[0m\n",
      "\u001b[0;32m/usr/lib/python2.7/dist-packages/pandas/io/parsers.pyc\u001b[0m in \u001b[0;36m_read\u001b[0;34m(filepath_or_buffer, kwds)\u001b[0m\n\u001b[1;32m    273\u001b[0m \u001b[0;34m\u001b[0m\u001b[0m\n\u001b[1;32m    274\u001b[0m     \u001b[0;31m# Create the parser.\u001b[0m\u001b[0;34m\u001b[0m\u001b[0;34m\u001b[0m\u001b[0m\n\u001b[0;32m--> 275\u001b[0;31m     \u001b[0mparser\u001b[0m \u001b[0;34m=\u001b[0m \u001b[0mTextFileReader\u001b[0m\u001b[0;34m(\u001b[0m\u001b[0mfilepath_or_buffer\u001b[0m\u001b[0;34m,\u001b[0m \u001b[0;34m**\u001b[0m\u001b[0mkwds\u001b[0m\u001b[0;34m)\u001b[0m\u001b[0;34m\u001b[0m\u001b[0m\n\u001b[0m\u001b[1;32m    276\u001b[0m \u001b[0;34m\u001b[0m\u001b[0m\n\u001b[1;32m    277\u001b[0m     \u001b[0;32mif\u001b[0m \u001b[0;34m(\u001b[0m\u001b[0mnrows\u001b[0m \u001b[0;32mis\u001b[0m \u001b[0;32mnot\u001b[0m \u001b[0mNone\u001b[0m\u001b[0;34m)\u001b[0m \u001b[0;32mand\u001b[0m \u001b[0;34m(\u001b[0m\u001b[0mchunksize\u001b[0m \u001b[0;32mis\u001b[0m \u001b[0;32mnot\u001b[0m \u001b[0mNone\u001b[0m\u001b[0;34m)\u001b[0m\u001b[0;34m:\u001b[0m\u001b[0;34m\u001b[0m\u001b[0m\n",
      "\u001b[0;32m/usr/lib/python2.7/dist-packages/pandas/io/parsers.pyc\u001b[0m in \u001b[0;36m__init__\u001b[0;34m(self, f, engine, **kwds)\u001b[0m\n\u001b[1;32m    588\u001b[0m             \u001b[0mself\u001b[0m\u001b[0;34m.\u001b[0m\u001b[0moptions\u001b[0m\u001b[0;34m[\u001b[0m\u001b[0;34m'has_index_names'\u001b[0m\u001b[0;34m]\u001b[0m \u001b[0;34m=\u001b[0m \u001b[0mkwds\u001b[0m\u001b[0;34m[\u001b[0m\u001b[0;34m'has_index_names'\u001b[0m\u001b[0;34m]\u001b[0m\u001b[0;34m\u001b[0m\u001b[0m\n\u001b[1;32m    589\u001b[0m \u001b[0;34m\u001b[0m\u001b[0m\n\u001b[0;32m--> 590\u001b[0;31m         \u001b[0mself\u001b[0m\u001b[0;34m.\u001b[0m\u001b[0m_make_engine\u001b[0m\u001b[0;34m(\u001b[0m\u001b[0mself\u001b[0m\u001b[0;34m.\u001b[0m\u001b[0mengine\u001b[0m\u001b[0;34m)\u001b[0m\u001b[0;34m\u001b[0m\u001b[0m\n\u001b[0m\u001b[1;32m    591\u001b[0m \u001b[0;34m\u001b[0m\u001b[0m\n\u001b[1;32m    592\u001b[0m     \u001b[0;32mdef\u001b[0m \u001b[0m_get_options_with_defaults\u001b[0m\u001b[0;34m(\u001b[0m\u001b[0mself\u001b[0m\u001b[0;34m,\u001b[0m \u001b[0mengine\u001b[0m\u001b[0;34m)\u001b[0m\u001b[0;34m:\u001b[0m\u001b[0;34m\u001b[0m\u001b[0m\n",
      "\u001b[0;32m/usr/lib/python2.7/dist-packages/pandas/io/parsers.pyc\u001b[0m in \u001b[0;36m_make_engine\u001b[0;34m(self, engine)\u001b[0m\n\u001b[1;32m    729\u001b[0m     \u001b[0;32mdef\u001b[0m \u001b[0m_make_engine\u001b[0m\u001b[0;34m(\u001b[0m\u001b[0mself\u001b[0m\u001b[0;34m,\u001b[0m \u001b[0mengine\u001b[0m\u001b[0;34m=\u001b[0m\u001b[0;34m'c'\u001b[0m\u001b[0;34m)\u001b[0m\u001b[0;34m:\u001b[0m\u001b[0;34m\u001b[0m\u001b[0m\n\u001b[1;32m    730\u001b[0m         \u001b[0;32mif\u001b[0m \u001b[0mengine\u001b[0m \u001b[0;34m==\u001b[0m \u001b[0;34m'c'\u001b[0m\u001b[0;34m:\u001b[0m\u001b[0;34m\u001b[0m\u001b[0m\n\u001b[0;32m--> 731\u001b[0;31m             \u001b[0mself\u001b[0m\u001b[0;34m.\u001b[0m\u001b[0m_engine\u001b[0m \u001b[0;34m=\u001b[0m \u001b[0mCParserWrapper\u001b[0m\u001b[0;34m(\u001b[0m\u001b[0mself\u001b[0m\u001b[0;34m.\u001b[0m\u001b[0mf\u001b[0m\u001b[0;34m,\u001b[0m \u001b[0;34m**\u001b[0m\u001b[0mself\u001b[0m\u001b[0;34m.\u001b[0m\u001b[0moptions\u001b[0m\u001b[0;34m)\u001b[0m\u001b[0;34m\u001b[0m\u001b[0m\n\u001b[0m\u001b[1;32m    732\u001b[0m         \u001b[0;32melse\u001b[0m\u001b[0;34m:\u001b[0m\u001b[0;34m\u001b[0m\u001b[0m\n\u001b[1;32m    733\u001b[0m             \u001b[0;32mif\u001b[0m \u001b[0mengine\u001b[0m \u001b[0;34m==\u001b[0m \u001b[0;34m'python'\u001b[0m\u001b[0;34m:\u001b[0m\u001b[0;34m\u001b[0m\u001b[0m\n",
      "\u001b[0;32m/usr/lib/python2.7/dist-packages/pandas/io/parsers.pyc\u001b[0m in \u001b[0;36m__init__\u001b[0;34m(self, src, **kwds)\u001b[0m\n\u001b[1;32m   1101\u001b[0m         \u001b[0mkwds\u001b[0m\u001b[0;34m[\u001b[0m\u001b[0;34m'allow_leading_cols'\u001b[0m\u001b[0;34m]\u001b[0m \u001b[0;34m=\u001b[0m \u001b[0mself\u001b[0m\u001b[0;34m.\u001b[0m\u001b[0mindex_col\u001b[0m \u001b[0;32mis\u001b[0m \u001b[0;32mnot\u001b[0m \u001b[0mFalse\u001b[0m\u001b[0;34m\u001b[0m\u001b[0m\n\u001b[1;32m   1102\u001b[0m \u001b[0;34m\u001b[0m\u001b[0m\n\u001b[0;32m-> 1103\u001b[0;31m         \u001b[0mself\u001b[0m\u001b[0;34m.\u001b[0m\u001b[0m_reader\u001b[0m \u001b[0;34m=\u001b[0m \u001b[0m_parser\u001b[0m\u001b[0;34m.\u001b[0m\u001b[0mTextReader\u001b[0m\u001b[0;34m(\u001b[0m\u001b[0msrc\u001b[0m\u001b[0;34m,\u001b[0m \u001b[0;34m**\u001b[0m\u001b[0mkwds\u001b[0m\u001b[0;34m)\u001b[0m\u001b[0;34m\u001b[0m\u001b[0m\n\u001b[0m\u001b[1;32m   1104\u001b[0m \u001b[0;34m\u001b[0m\u001b[0m\n\u001b[1;32m   1105\u001b[0m         \u001b[0;31m# XXX\u001b[0m\u001b[0;34m\u001b[0m\u001b[0;34m\u001b[0m\u001b[0m\n",
      "\u001b[0;32m/usr/lib/python2.7/dist-packages/pandas/parser.so\u001b[0m in \u001b[0;36mpandas.parser.TextReader.__cinit__ (pandas/parser.c:3246)\u001b[0;34m()\u001b[0m\n",
      "\u001b[0;32m/usr/lib/python2.7/dist-packages/pandas/parser.so\u001b[0m in \u001b[0;36mpandas.parser.TextReader._setup_parser_source (pandas/parser.c:6111)\u001b[0;34m()\u001b[0m\n",
      "\u001b[0;31mIOError\u001b[0m: File ./aquitaine-md-users.csv does not exist"
     ]
    }
   ],
   "source": [
    "users = pd.read_csv(fname,\n",
    "                    index_col=0,\n",
    "                    parse_dates=[FIRST_AT, LAST_AT])\n",
    "users.shape"
   ]
  },
  {
   "cell_type": "code",
   "execution_count": 290,
   "metadata": {},
   "outputs": [
    {
     "data": {
      "text/plain": [
       "(6064, 61)"
      ]
     },
     "execution_count": 290,
     "metadata": {},
     "output_type": "execute_result"
    }
   ],
   "source": [
    "# Should drop the raw with the uid=0 because it does not exist\n",
    "users = users.query(\"uid != 0\")\n",
    "users.shape"
   ]
  },
  {
   "cell_type": "code",
   "execution_count": 291,
   "metadata": {
    "collapsed": true
   },
   "outputs": [],
   "source": [
    "# total nb of changesets by user (planet osm full history)\n",
    "changeset_count_users = pd.read_csv(changeset_user_hist_fname,\n",
    "                                    header=None,\n",
    "                                    names=['uid', 'num'])"
   ]
  },
  {
   "cell_type": "code",
   "execution_count": 292,
   "metadata": {},
   "outputs": [
    {
     "name": "stdout",
     "output_type": "stream",
     "text": [
      "<class 'pandas.core.frame.DataFrame'>\n",
      "RangeIndex: 839769 entries, 0 to 839768\n",
      "Data columns (total 2 columns):\n",
      "uid    839769 non-null int64\n",
      "num    839769 non-null int64\n",
      "dtypes: int64(2)\n",
      "memory usage: 12.8 MB\n"
     ]
    }
   ],
   "source": [
    "# changeset_count_users.head()\n",
    "changeset_count_users.info()"
   ]
  },
  {
   "cell_type": "code",
   "execution_count": 293,
   "metadata": {},
   "outputs": [],
   "source": [
    "# add the column n_total_chgset for each user in the 'users' DataFrame\n",
    "#users.join?\n",
    "users = (users.join(changeset_count_users.set_index('uid'), on='uid')\n",
    "      .rename_axis({'num': 'n_total_chgset'}, axis=1))"
   ]
  },
  {
   "cell_type": "code",
   "execution_count": 294,
   "metadata": {},
   "outputs": [],
   "source": [
    "# You don't have to have a null, i.e. NaN, value\n",
    "assert users.n_total_chgset.isnull().sum() == 0"
   ]
  },
  {
   "cell_type": "code",
   "execution_count": 295,
   "metadata": {},
   "outputs": [
    {
     "data": {
      "text/html": [
       "<div>\n",
       "<table border=\"1\" class=\"dataframe\">\n",
       "  <thead>\n",
       "    <tr style=\"text-align: right;\">\n",
       "      <th></th>\n",
       "      <th>uid</th>\n",
       "      <th>n_chgset</th>\n",
       "      <th>n_modif_bychgset</th>\n",
       "      <th>nmax_modif_bychgset</th>\n",
       "      <th>n_elem_bychgset</th>\n",
       "      <th>nmax_elem_bychgset</th>\n",
       "      <th>meantime_between_chgset</th>\n",
       "      <th>n_modif</th>\n",
       "      <th>n_nodemodif</th>\n",
       "      <th>n_waymodif</th>\n",
       "      <th>...</th>\n",
       "      <th>n_relation_crupd</th>\n",
       "      <th>n_elem_crmod</th>\n",
       "      <th>n_node_crmod</th>\n",
       "      <th>n_way_crmod</th>\n",
       "      <th>n_relation_crmod</th>\n",
       "      <th>n_elem_crdel</th>\n",
       "      <th>n_node_crdel</th>\n",
       "      <th>n_way_crdel</th>\n",
       "      <th>n_relation_crdel</th>\n",
       "      <th>n_total_chgset</th>\n",
       "    </tr>\n",
       "  </thead>\n",
       "  <tbody>\n",
       "    <tr>\n",
       "      <th>1</th>\n",
       "      <td>94</td>\n",
       "      <td>1</td>\n",
       "      <td>1.0</td>\n",
       "      <td>1</td>\n",
       "      <td>1.0</td>\n",
       "      <td>1</td>\n",
       "      <td>0 days 00:00:00.000000000</td>\n",
       "      <td>1</td>\n",
       "      <td>1.0</td>\n",
       "      <td>0.0</td>\n",
       "      <td>...</td>\n",
       "      <td>0.0</td>\n",
       "      <td>0.0</td>\n",
       "      <td>0.0</td>\n",
       "      <td>0.0</td>\n",
       "      <td>0.0</td>\n",
       "      <td>1.0</td>\n",
       "      <td>1.0</td>\n",
       "      <td>0.0</td>\n",
       "      <td>0.0</td>\n",
       "      <td>1326</td>\n",
       "    </tr>\n",
       "    <tr>\n",
       "      <th>2</th>\n",
       "      <td>143</td>\n",
       "      <td>1</td>\n",
       "      <td>264.0</td>\n",
       "      <td>264</td>\n",
       "      <td>264.0</td>\n",
       "      <td>264</td>\n",
       "      <td>0 days 00:00:00.000000000</td>\n",
       "      <td>264</td>\n",
       "      <td>233.0</td>\n",
       "      <td>31.0</td>\n",
       "      <td>...</td>\n",
       "      <td>0.0</td>\n",
       "      <td>202.0</td>\n",
       "      <td>184.0</td>\n",
       "      <td>18.0</td>\n",
       "      <td>0.0</td>\n",
       "      <td>20.0</td>\n",
       "      <td>19.0</td>\n",
       "      <td>1.0</td>\n",
       "      <td>0.0</td>\n",
       "      <td>1070</td>\n",
       "    </tr>\n",
       "    <tr>\n",
       "      <th>3</th>\n",
       "      <td>165</td>\n",
       "      <td>11</td>\n",
       "      <td>1.0</td>\n",
       "      <td>10</td>\n",
       "      <td>1.0</td>\n",
       "      <td>10</td>\n",
       "      <td>181 days 06:17:58.500000000</td>\n",
       "      <td>20</td>\n",
       "      <td>5.0</td>\n",
       "      <td>5.0</td>\n",
       "      <td>...</td>\n",
       "      <td>0.0</td>\n",
       "      <td>0.0</td>\n",
       "      <td>0.0</td>\n",
       "      <td>0.0</td>\n",
       "      <td>0.0</td>\n",
       "      <td>0.0</td>\n",
       "      <td>0.0</td>\n",
       "      <td>0.0</td>\n",
       "      <td>0.0</td>\n",
       "      <td>9007</td>\n",
       "    </tr>\n",
       "    <tr>\n",
       "      <th>4</th>\n",
       "      <td>246</td>\n",
       "      <td>6</td>\n",
       "      <td>1.0</td>\n",
       "      <td>3</td>\n",
       "      <td>1.0</td>\n",
       "      <td>1</td>\n",
       "      <td>118 days 03:08:55.000000000</td>\n",
       "      <td>8</td>\n",
       "      <td>0.0</td>\n",
       "      <td>0.0</td>\n",
       "      <td>...</td>\n",
       "      <td>0.0</td>\n",
       "      <td>0.0</td>\n",
       "      <td>0.0</td>\n",
       "      <td>0.0</td>\n",
       "      <td>0.0</td>\n",
       "      <td>0.0</td>\n",
       "      <td>0.0</td>\n",
       "      <td>0.0</td>\n",
       "      <td>0.0</td>\n",
       "      <td>8922</td>\n",
       "    </tr>\n",
       "    <tr>\n",
       "      <th>5</th>\n",
       "      <td>356</td>\n",
       "      <td>9</td>\n",
       "      <td>25.0</td>\n",
       "      <td>941</td>\n",
       "      <td>25.0</td>\n",
       "      <td>941</td>\n",
       "      <td>116 days 03:03:33.750000000</td>\n",
       "      <td>1183</td>\n",
       "      <td>1077.0</td>\n",
       "      <td>104.0</td>\n",
       "      <td>...</td>\n",
       "      <td>0.0</td>\n",
       "      <td>32.0</td>\n",
       "      <td>18.0</td>\n",
       "      <td>14.0</td>\n",
       "      <td>0.0</td>\n",
       "      <td>25.0</td>\n",
       "      <td>19.0</td>\n",
       "      <td>6.0</td>\n",
       "      <td>0.0</td>\n",
       "      <td>562</td>\n",
       "    </tr>\n",
       "  </tbody>\n",
       "</table>\n",
       "<p>5 rows × 62 columns</p>\n",
       "</div>"
      ],
      "text/plain": [
       "   uid  n_chgset  n_modif_bychgset  nmax_modif_bychgset  n_elem_bychgset  \\\n",
       "1   94         1               1.0                    1              1.0   \n",
       "2  143         1             264.0                  264            264.0   \n",
       "3  165        11               1.0                   10              1.0   \n",
       "4  246         6               1.0                    3              1.0   \n",
       "5  356         9              25.0                  941             25.0   \n",
       "\n",
       "   nmax_elem_bychgset      meantime_between_chgset  n_modif  n_nodemodif  \\\n",
       "1                   1    0 days 00:00:00.000000000        1          1.0   \n",
       "2                 264    0 days 00:00:00.000000000      264        233.0   \n",
       "3                  10  181 days 06:17:58.500000000       20          5.0   \n",
       "4                   1  118 days 03:08:55.000000000        8          0.0   \n",
       "5                 941  116 days 03:03:33.750000000     1183       1077.0   \n",
       "\n",
       "   n_waymodif      ...        n_relation_crupd  n_elem_crmod  n_node_crmod  \\\n",
       "1         0.0      ...                     0.0           0.0           0.0   \n",
       "2        31.0      ...                     0.0         202.0         184.0   \n",
       "3         5.0      ...                     0.0           0.0           0.0   \n",
       "4         0.0      ...                     0.0           0.0           0.0   \n",
       "5       104.0      ...                     0.0          32.0          18.0   \n",
       "\n",
       "   n_way_crmod  n_relation_crmod  n_elem_crdel  n_node_crdel  n_way_crdel  \\\n",
       "1          0.0               0.0           1.0           1.0          0.0   \n",
       "2         18.0               0.0          20.0          19.0          1.0   \n",
       "3          0.0               0.0           0.0           0.0          0.0   \n",
       "4          0.0               0.0           0.0           0.0          0.0   \n",
       "5         14.0               0.0          25.0          19.0          6.0   \n",
       "\n",
       "   n_relation_crdel n_total_chgset  \n",
       "1               0.0           1326  \n",
       "2               0.0           1070  \n",
       "3               0.0           9007  \n",
       "4               0.0           8922  \n",
       "5               0.0            562  \n",
       "\n",
       "[5 rows x 62 columns]"
      ]
     },
     "execution_count": 295,
     "metadata": {},
     "output_type": "execute_result"
    }
   ],
   "source": [
    "users.head()"
   ]
  },
  {
   "cell_type": "code",
   "execution_count": 296,
   "metadata": {
    "collapsed": true
   },
   "outputs": [],
   "source": [
    "# add the column 'how_long': extraction date - first_at\n",
    "users['how_long'] = EXTRACTION_DATE - users['first_at']"
   ]
  },
  {
   "cell_type": "code",
   "execution_count": 297,
   "metadata": {
    "collapsed": true
   },
   "outputs": [],
   "source": [
    "# columns with a timedelta\n",
    "dt_columns = ['meantime_between_chgset',\n",
    "              'activity',\n",
    "              'update_medtime',\n",
    "              'corr_medtime',\n",
    "              'autocorr_medtime',\n",
    "              'how_long']"
   ]
  },
  {
   "cell_type": "code",
   "execution_count": 298,
   "metadata": {
    "collapsed": true
   },
   "outputs": [],
   "source": [
    "# columns with a timestamp\n",
    "ts_columns = ['first_at', 'last_at']"
   ]
  },
  {
   "cell_type": "code",
   "execution_count": 299,
   "metadata": {},
   "outputs": [
    {
     "name": "stdout",
     "output_type": "stream",
     "text": [
      "meantime_between_chgset\n",
      "activity\n",
      "update_medtime\n",
      "corr_medtime\n",
      "autocorr_medtime\n",
      "how_long\n"
     ]
    }
   ],
   "source": [
    "# Turn all timedelta colums into real pd.Timedelta object, then retrieve the number of days\n",
    "# dayfunc = lambda x: pd.Timedelta(x).days\n",
    "for col in dt_columns:\n",
    "    print(col)\n",
    "    users[col] = users[col].apply(pd.Timedelta) / np.timedelta64(1, 'D')"
   ]
  },
  {
   "cell_type": "code",
   "execution_count": 300,
   "metadata": {},
   "outputs": [
    {
     "data": {
      "text/html": [
       "<div>\n",
       "<table border=\"1\" class=\"dataframe\">\n",
       "  <thead>\n",
       "    <tr style=\"text-align: right;\">\n",
       "      <th></th>\n",
       "      <th>meantime_between_chgset</th>\n",
       "      <th>activity</th>\n",
       "      <th>update_medtime</th>\n",
       "      <th>corr_medtime</th>\n",
       "      <th>autocorr_medtime</th>\n",
       "      <th>how_long</th>\n",
       "    </tr>\n",
       "  </thead>\n",
       "  <tbody>\n",
       "    <tr>\n",
       "      <th>1</th>\n",
       "      <td>0.000000</td>\n",
       "      <td>0.000000</td>\n",
       "      <td>1458.038796</td>\n",
       "      <td>1458.038796</td>\n",
       "      <td>0.000000</td>\n",
       "      <td>4357.383889</td>\n",
       "    </tr>\n",
       "    <tr>\n",
       "      <th>2</th>\n",
       "      <td>0.000000</td>\n",
       "      <td>0.005949</td>\n",
       "      <td>508.023403</td>\n",
       "      <td>508.023403</td>\n",
       "      <td>0.000000</td>\n",
       "      <td>3174.032488</td>\n",
       "    </tr>\n",
       "    <tr>\n",
       "      <th>3</th>\n",
       "      <td>181.262483</td>\n",
       "      <td>1812.624850</td>\n",
       "      <td>1.966591</td>\n",
       "      <td>2.314896</td>\n",
       "      <td>0.498356</td>\n",
       "      <td>1850.145370</td>\n",
       "    </tr>\n",
       "  </tbody>\n",
       "</table>\n",
       "</div>"
      ],
      "text/plain": [
       "   meantime_between_chgset     activity  update_medtime  corr_medtime  \\\n",
       "1                 0.000000     0.000000     1458.038796   1458.038796   \n",
       "2                 0.000000     0.005949      508.023403    508.023403   \n",
       "3               181.262483  1812.624850        1.966591      2.314896   \n",
       "\n",
       "   autocorr_medtime     how_long  \n",
       "1          0.000000  4357.383889  \n",
       "2          0.000000  3174.032488  \n",
       "3          0.498356  1850.145370  "
      ]
     },
     "execution_count": 300,
     "metadata": {},
     "output_type": "execute_result"
    }
   ],
   "source": [
    "# Check if you have day values (in float)\n",
    "users[dt_columns].head(3)"
   ]
  },
  {
   "cell_type": "code",
   "execution_count": 301,
   "metadata": {},
   "outputs": [
    {
     "data": {
      "text/html": [
       "<div>\n",
       "<table border=\"1\" class=\"dataframe\">\n",
       "  <thead>\n",
       "    <tr style=\"text-align: right;\">\n",
       "      <th></th>\n",
       "      <th>meantime_between_chgset</th>\n",
       "      <th>activity</th>\n",
       "      <th>update_medtime</th>\n",
       "      <th>corr_medtime</th>\n",
       "      <th>autocorr_medtime</th>\n",
       "      <th>how_long</th>\n",
       "    </tr>\n",
       "  </thead>\n",
       "  <tbody>\n",
       "    <tr>\n",
       "      <th>count</th>\n",
       "      <td>6064.000000</td>\n",
       "      <td>6064.000000</td>\n",
       "      <td>6064.000000</td>\n",
       "      <td>6064.000000</td>\n",
       "      <td>6064.000000</td>\n",
       "      <td>6064.000000</td>\n",
       "    </tr>\n",
       "    <tr>\n",
       "      <th>mean</th>\n",
       "      <td>40.977572</td>\n",
       "      <td>272.187202</td>\n",
       "      <td>184.246428</td>\n",
       "      <td>230.415643</td>\n",
       "      <td>6.593759</td>\n",
       "      <td>1364.637960</td>\n",
       "    </tr>\n",
       "    <tr>\n",
       "      <th>std</th>\n",
       "      <td>137.420700</td>\n",
       "      <td>572.928689</td>\n",
       "      <td>298.874919</td>\n",
       "      <td>328.909611</td>\n",
       "      <td>53.994305</td>\n",
       "      <td>863.011959</td>\n",
       "    </tr>\n",
       "    <tr>\n",
       "      <th>min</th>\n",
       "      <td>0.000000</td>\n",
       "      <td>0.000000</td>\n",
       "      <td>0.000000</td>\n",
       "      <td>0.000000</td>\n",
       "      <td>0.000000</td>\n",
       "      <td>31.332234</td>\n",
       "    </tr>\n",
       "    <tr>\n",
       "      <th>25%</th>\n",
       "      <td>0.000000</td>\n",
       "      <td>0.000012</td>\n",
       "      <td>1.004442</td>\n",
       "      <td>3.808889</td>\n",
       "      <td>0.000000</td>\n",
       "      <td>660.520648</td>\n",
       "    </tr>\n",
       "    <tr>\n",
       "      <th>50%</th>\n",
       "      <td>0.031338</td>\n",
       "      <td>0.087367</td>\n",
       "      <td>35.257274</td>\n",
       "      <td>79.672075</td>\n",
       "      <td>0.000000</td>\n",
       "      <td>1292.980943</td>\n",
       "    </tr>\n",
       "    <tr>\n",
       "      <th>75%</th>\n",
       "      <td>15.081934</td>\n",
       "      <td>221.954280</td>\n",
       "      <td>253.336962</td>\n",
       "      <td>341.596920</td>\n",
       "      <td>0.014622</td>\n",
       "      <td>1923.361991</td>\n",
       "    </tr>\n",
       "    <tr>\n",
       "      <th>max</th>\n",
       "      <td>2531.057014</td>\n",
       "      <td>3879.761921</td>\n",
       "      <td>2949.025023</td>\n",
       "      <td>2949.025023</td>\n",
       "      <td>1357.934468</td>\n",
       "      <td>4357.383889</td>\n",
       "    </tr>\n",
       "  </tbody>\n",
       "</table>\n",
       "</div>"
      ],
      "text/plain": [
       "       meantime_between_chgset     activity  update_medtime  corr_medtime  \\\n",
       "count              6064.000000  6064.000000     6064.000000   6064.000000   \n",
       "mean                 40.977572   272.187202      184.246428    230.415643   \n",
       "std                 137.420700   572.928689      298.874919    328.909611   \n",
       "min                   0.000000     0.000000        0.000000      0.000000   \n",
       "25%                   0.000000     0.000012        1.004442      3.808889   \n",
       "50%                   0.031338     0.087367       35.257274     79.672075   \n",
       "75%                  15.081934   221.954280      253.336962    341.596920   \n",
       "max                2531.057014  3879.761921     2949.025023   2949.025023   \n",
       "\n",
       "       autocorr_medtime     how_long  \n",
       "count       6064.000000  6064.000000  \n",
       "mean           6.593759  1364.637960  \n",
       "std           53.994305   863.011959  \n",
       "min            0.000000    31.332234  \n",
       "25%            0.000000   660.520648  \n",
       "50%            0.000000  1292.980943  \n",
       "75%            0.014622  1923.361991  \n",
       "max         1357.934468  4357.383889  "
      ]
     },
     "execution_count": 301,
     "metadata": {},
     "output_type": "execute_result"
    }
   ],
   "source": [
    "users[dt_columns].describe()"
   ]
  },
  {
   "cell_type": "code",
   "execution_count": 20,
   "metadata": {},
   "outputs": [],
   "source": [
    "# users.info()"
   ]
  },
  {
   "cell_type": "code",
   "execution_count": 302,
   "metadata": {},
   "outputs": [],
   "source": [
    "# Check if you don't have an 'object' type in your DataFrame\n",
    "assert np.sum(users.dtypes.apply(str) == 'object') == 0"
   ]
  },
  {
   "cell_type": "markdown",
   "metadata": {},
   "source": [
    "## Dig Deeper"
   ]
  },
  {
   "cell_type": "code",
   "execution_count": 303,
   "metadata": {
    "collapsed": true
   },
   "outputs": [],
   "source": [
    "# Drop the columns with dates\n",
    "# Only keep the int & float data\n",
    "dusers = users.drop(ts_columns, axis=1)"
   ]
  },
  {
   "cell_type": "code",
   "execution_count": 325,
   "metadata": {},
   "outputs": [
    {
     "data": {
      "text/html": [
       "<div>\n",
       "<table border=\"1\" class=\"dataframe\">\n",
       "  <thead>\n",
       "    <tr style=\"text-align: right;\">\n",
       "      <th></th>\n",
       "      <th>mean</th>\n",
       "      <th>50%</th>\n",
       "      <th>std</th>\n",
       "      <th>qrange</th>\n",
       "      <th>min</th>\n",
       "      <th>max</th>\n",
       "    </tr>\n",
       "  </thead>\n",
       "  <tbody>\n",
       "    <tr>\n",
       "      <th>n_modif</th>\n",
       "      <td>5615.117909</td>\n",
       "      <td>15.000000</td>\n",
       "      <td>71668.275940</td>\n",
       "      <td>132.000000</td>\n",
       "      <td>1.000000</td>\n",
       "      <td>3.658020e+06</td>\n",
       "    </tr>\n",
       "    <tr>\n",
       "      <th>n_elem</th>\n",
       "      <td>5255.141326</td>\n",
       "      <td>12.000000</td>\n",
       "      <td>68226.427192</td>\n",
       "      <td>121.000000</td>\n",
       "      <td>1.000000</td>\n",
       "      <td>3.508659e+06</td>\n",
       "    </tr>\n",
       "    <tr>\n",
       "      <th>n_elem_cr</th>\n",
       "      <td>4652.566293</td>\n",
       "      <td>4.000000</td>\n",
       "      <td>62212.211557</td>\n",
       "      <td>71.000000</td>\n",
       "      <td>0.000000</td>\n",
       "      <td>3.186485e+06</td>\n",
       "    </tr>\n",
       "    <tr>\n",
       "      <th>n_nodemodif</th>\n",
       "      <td>4762.350923</td>\n",
       "      <td>8.000000</td>\n",
       "      <td>61103.221825</td>\n",
       "      <td>103.000000</td>\n",
       "      <td>0.000000</td>\n",
       "      <td>3.093087e+06</td>\n",
       "    </tr>\n",
       "    <tr>\n",
       "      <th>n_elem_lastupd</th>\n",
       "      <td>4314.361313</td>\n",
       "      <td>4.000000</td>\n",
       "      <td>58964.434027</td>\n",
       "      <td>59.000000</td>\n",
       "      <td>0.000000</td>\n",
       "      <td>3.002972e+06</td>\n",
       "    </tr>\n",
       "    <tr>\n",
       "      <th>n_node</th>\n",
       "      <td>4489.855046</td>\n",
       "      <td>8.000000</td>\n",
       "      <td>58461.410918</td>\n",
       "      <td>98.000000</td>\n",
       "      <td>0.000000</td>\n",
       "      <td>2.977939e+06</td>\n",
       "    </tr>\n",
       "    <tr>\n",
       "      <th>n_elem_crupd</th>\n",
       "      <td>3933.805079</td>\n",
       "      <td>1.000000</td>\n",
       "      <td>55607.914182</td>\n",
       "      <td>39.000000</td>\n",
       "      <td>0.000000</td>\n",
       "      <td>2.890456e+06</td>\n",
       "    </tr>\n",
       "    <tr>\n",
       "      <th>n_node_cr</th>\n",
       "      <td>4038.940303</td>\n",
       "      <td>3.000000</td>\n",
       "      <td>53240.094917</td>\n",
       "      <td>63.000000</td>\n",
       "      <td>0.000000</td>\n",
       "      <td>2.683380e+06</td>\n",
       "    </tr>\n",
       "    <tr>\n",
       "      <th>n_node_lastupd</th>\n",
       "      <td>3732.392810</td>\n",
       "      <td>3.000000</td>\n",
       "      <td>50763.939885</td>\n",
       "      <td>49.000000</td>\n",
       "      <td>0.000000</td>\n",
       "      <td>2.535201e+06</td>\n",
       "    </tr>\n",
       "    <tr>\n",
       "      <th>n_node_crupd</th>\n",
       "      <td>3462.200528</td>\n",
       "      <td>1.000000</td>\n",
       "      <td>47957.585706</td>\n",
       "      <td>36.000000</td>\n",
       "      <td>0.000000</td>\n",
       "      <td>2.440816e+06</td>\n",
       "    </tr>\n",
       "    <tr>\n",
       "      <th>n_waymodif</th>\n",
       "      <td>833.719162</td>\n",
       "      <td>3.000000</td>\n",
       "      <td>11182.006802</td>\n",
       "      <td>20.000000</td>\n",
       "      <td>0.000000</td>\n",
       "      <td>5.614130e+05</td>\n",
       "    </tr>\n",
       "    <tr>\n",
       "      <th>n_way</th>\n",
       "      <td>754.205970</td>\n",
       "      <td>2.000000</td>\n",
       "      <td>10486.870349</td>\n",
       "      <td>17.000000</td>\n",
       "      <td>0.000000</td>\n",
       "      <td>5.281120e+05</td>\n",
       "    </tr>\n",
       "    <tr>\n",
       "      <th>n_way_cr</th>\n",
       "      <td>609.143964</td>\n",
       "      <td>0.000000</td>\n",
       "      <td>9153.388992</td>\n",
       "      <td>7.000000</td>\n",
       "      <td>0.000000</td>\n",
       "      <td>5.021920e+05</td>\n",
       "    </tr>\n",
       "    <tr>\n",
       "      <th>n_way_lastupd</th>\n",
       "      <td>577.765666</td>\n",
       "      <td>0.000000</td>\n",
       "      <td>9037.858104</td>\n",
       "      <td>6.000000</td>\n",
       "      <td>0.000000</td>\n",
       "      <td>4.668990e+05</td>\n",
       "    </tr>\n",
       "    <tr>\n",
       "      <th>n_way_crupd</th>\n",
       "      <td>469.672823</td>\n",
       "      <td>0.000000</td>\n",
       "      <td>7973.261710</td>\n",
       "      <td>2.000000</td>\n",
       "      <td>0.000000</td>\n",
       "      <td>4.489560e+05</td>\n",
       "    </tr>\n",
       "    <tr>\n",
       "      <th>n_elem_oldupd</th>\n",
       "      <td>601.745383</td>\n",
       "      <td>3.000000</td>\n",
       "      <td>7069.850087</td>\n",
       "      <td>25.000000</td>\n",
       "      <td>0.000000</td>\n",
       "      <td>2.268790e+05</td>\n",
       "    </tr>\n",
       "    <tr>\n",
       "      <th>n_total_chgset</th>\n",
       "      <td>1508.017975</td>\n",
       "      <td>56.000000</td>\n",
       "      <td>6682.083466</td>\n",
       "      <td>782.250000</td>\n",
       "      <td>1.000000</td>\n",
       "      <td>2.777040e+05</td>\n",
       "    </tr>\n",
       "    <tr>\n",
       "      <th>n_node_oldupd</th>\n",
       "      <td>450.109169</td>\n",
       "      <td>1.000000</td>\n",
       "      <td>5531.248490</td>\n",
       "      <td>13.000000</td>\n",
       "      <td>0.000000</td>\n",
       "      <td>1.770820e+05</td>\n",
       "    </tr>\n",
       "    <tr>\n",
       "      <th>n_elem_lastdel</th>\n",
       "      <td>338.217843</td>\n",
       "      <td>0.000000</td>\n",
       "      <td>5213.306765</td>\n",
       "      <td>3.000000</td>\n",
       "      <td>0.000000</td>\n",
       "      <td>2.787940e+05</td>\n",
       "    </tr>\n",
       "    <tr>\n",
       "      <th>n_elem_crmod</th>\n",
       "      <td>381.647098</td>\n",
       "      <td>0.000000</td>\n",
       "      <td>5017.304607</td>\n",
       "      <td>9.000000</td>\n",
       "      <td>0.000000</td>\n",
       "      <td>2.183190e+05</td>\n",
       "    </tr>\n",
       "    <tr>\n",
       "      <th>n_node_lastdel</th>\n",
       "      <td>306.561511</td>\n",
       "      <td>0.000000</td>\n",
       "      <td>4833.052188</td>\n",
       "      <td>2.000000</td>\n",
       "      <td>0.000000</td>\n",
       "      <td>2.656430e+05</td>\n",
       "    </tr>\n",
       "    <tr>\n",
       "      <th>n_elem_crdel</th>\n",
       "      <td>337.114116</td>\n",
       "      <td>0.000000</td>\n",
       "      <td>4222.963429</td>\n",
       "      <td>4.000000</td>\n",
       "      <td>0.000000</td>\n",
       "      <td>1.651190e+05</td>\n",
       "    </tr>\n",
       "    <tr>\n",
       "      <th>nmax_modif_bychgset</th>\n",
       "      <td>576.993569</td>\n",
       "      <td>8.000000</td>\n",
       "      <td>4092.388128</td>\n",
       "      <td>65.000000</td>\n",
       "      <td>1.000000</td>\n",
       "      <td>5.010000e+04</td>\n",
       "    </tr>\n",
       "    <tr>\n",
       "      <th>nmax_elem_bychgset</th>\n",
       "      <td>566.671504</td>\n",
       "      <td>8.000000</td>\n",
       "      <td>4079.571855</td>\n",
       "      <td>64.000000</td>\n",
       "      <td>1.000000</td>\n",
       "      <td>5.010000e+04</td>\n",
       "    </tr>\n",
       "    <tr>\n",
       "      <th>n_node_crdel</th>\n",
       "      <td>305.456629</td>\n",
       "      <td>0.000000</td>\n",
       "      <td>3886.552794</td>\n",
       "      <td>3.000000</td>\n",
       "      <td>0.000000</td>\n",
       "      <td>1.593710e+05</td>\n",
       "    </tr>\n",
       "    <tr>\n",
       "      <th>n_node_crmod</th>\n",
       "      <td>271.283146</td>\n",
       "      <td>0.000000</td>\n",
       "      <td>3817.636933</td>\n",
       "      <td>6.000000</td>\n",
       "      <td>0.000000</td>\n",
       "      <td>1.793380e+05</td>\n",
       "    </tr>\n",
       "    <tr>\n",
       "      <th>n_way_oldupd</th>\n",
       "      <td>145.038918</td>\n",
       "      <td>1.000000</td>\n",
       "      <td>1941.510146</td>\n",
       "      <td>7.000000</td>\n",
       "      <td>0.000000</td>\n",
       "      <td>7.481700e+04</td>\n",
       "    </tr>\n",
       "    <tr>\n",
       "      <th>n_way_crmod</th>\n",
       "      <td>108.092843</td>\n",
       "      <td>0.000000</td>\n",
       "      <td>1684.970291</td>\n",
       "      <td>2.000000</td>\n",
       "      <td>0.000000</td>\n",
       "      <td>6.901000e+04</td>\n",
       "    </tr>\n",
       "    <tr>\n",
       "      <th>how_long</th>\n",
       "      <td>1364.637960</td>\n",
       "      <td>1292.980943</td>\n",
       "      <td>863.011959</td>\n",
       "      <td>1262.841343</td>\n",
       "      <td>31.332234</td>\n",
       "      <td>4.357384e+03</td>\n",
       "    </tr>\n",
       "    <tr>\n",
       "      <th>activity</th>\n",
       "      <td>272.187202</td>\n",
       "      <td>0.087367</td>\n",
       "      <td>572.928689</td>\n",
       "      <td>221.954268</td>\n",
       "      <td>0.000000</td>\n",
       "      <td>3.879762e+03</td>\n",
       "    </tr>\n",
       "    <tr>\n",
       "      <th>n_modif_bychgset</th>\n",
       "      <td>41.423978</td>\n",
       "      <td>2.500000</td>\n",
       "      <td>546.728493</td>\n",
       "      <td>11.000000</td>\n",
       "      <td>1.000000</td>\n",
       "      <td>2.285800e+04</td>\n",
       "    </tr>\n",
       "    <tr>\n",
       "      <th>n_elem_bychgset</th>\n",
       "      <td>40.114941</td>\n",
       "      <td>2.000000</td>\n",
       "      <td>544.353796</td>\n",
       "      <td>11.000000</td>\n",
       "      <td>1.000000</td>\n",
       "      <td>2.285800e+04</td>\n",
       "    </tr>\n",
       "    <tr>\n",
       "      <th>n_way_lastdel</th>\n",
       "      <td>31.377144</td>\n",
       "      <td>0.000000</td>\n",
       "      <td>462.412631</td>\n",
       "      <td>0.000000</td>\n",
       "      <td>0.000000</td>\n",
       "      <td>1.796800e+04</td>\n",
       "    </tr>\n",
       "    <tr>\n",
       "      <th>n_way_crdel</th>\n",
       "      <td>31.378298</td>\n",
       "      <td>0.000000</td>\n",
       "      <td>436.634900</td>\n",
       "      <td>0.000000</td>\n",
       "      <td>0.000000</td>\n",
       "      <td>1.660400e+04</td>\n",
       "    </tr>\n",
       "    <tr>\n",
       "      <th>corr_medtime</th>\n",
       "      <td>230.415643</td>\n",
       "      <td>79.672075</td>\n",
       "      <td>328.909611</td>\n",
       "      <td>337.788031</td>\n",
       "      <td>0.000000</td>\n",
       "      <td>2.949025e+03</td>\n",
       "    </tr>\n",
       "    <tr>\n",
       "      <th>update_medtime</th>\n",
       "      <td>184.246428</td>\n",
       "      <td>35.257274</td>\n",
       "      <td>298.874919</td>\n",
       "      <td>252.332520</td>\n",
       "      <td>0.000000</td>\n",
       "      <td>2.949025e+03</td>\n",
       "    </tr>\n",
       "    <tr>\n",
       "      <th>n_chgset</th>\n",
       "      <td>30.870712</td>\n",
       "      <td>2.000000</td>\n",
       "      <td>246.954950</td>\n",
       "      <td>7.000000</td>\n",
       "      <td>1.000000</td>\n",
       "      <td>9.466000e+03</td>\n",
       "    </tr>\n",
       "    <tr>\n",
       "      <th>n_relationmodif</th>\n",
       "      <td>19.047823</td>\n",
       "      <td>0.000000</td>\n",
       "      <td>206.220802</td>\n",
       "      <td>2.000000</td>\n",
       "      <td>0.000000</td>\n",
       "      <td>6.321000e+03</td>\n",
       "    </tr>\n",
       "    <tr>\n",
       "      <th>n_relation</th>\n",
       "      <td>11.082949</td>\n",
       "      <td>0.000000</td>\n",
       "      <td>146.973163</td>\n",
       "      <td>1.000000</td>\n",
       "      <td>0.000000</td>\n",
       "      <td>4.751000e+03</td>\n",
       "    </tr>\n",
       "    <tr>\n",
       "      <th>meantime_between_chgset</th>\n",
       "      <td>40.977572</td>\n",
       "      <td>0.031338</td>\n",
       "      <td>137.420700</td>\n",
       "      <td>15.081934</td>\n",
       "      <td>0.000000</td>\n",
       "      <td>2.531057e+03</td>\n",
       "    </tr>\n",
       "    <tr>\n",
       "      <th>n_rel_oldupd</th>\n",
       "      <td>6.597296</td>\n",
       "      <td>0.000000</td>\n",
       "      <td>102.797547</td>\n",
       "      <td>1.000000</td>\n",
       "      <td>0.000000</td>\n",
       "      <td>4.741000e+03</td>\n",
       "    </tr>\n",
       "    <tr>\n",
       "      <th>n_relation_cr</th>\n",
       "      <td>4.482025</td>\n",
       "      <td>0.000000</td>\n",
       "      <td>86.114341</td>\n",
       "      <td>0.000000</td>\n",
       "      <td>0.000000</td>\n",
       "      <td>4.717000e+03</td>\n",
       "    </tr>\n",
       "    <tr>\n",
       "      <th>n_rel_lastupd</th>\n",
       "      <td>4.202836</td>\n",
       "      <td>0.000000</td>\n",
       "      <td>84.402631</td>\n",
       "      <td>0.000000</td>\n",
       "      <td>0.000000</td>\n",
       "      <td>4.706000e+03</td>\n",
       "    </tr>\n",
       "    <tr>\n",
       "      <th>n_relation_crmod</th>\n",
       "      <td>2.271108</td>\n",
       "      <td>0.000000</td>\n",
       "      <td>66.237016</td>\n",
       "      <td>0.000000</td>\n",
       "      <td>0.000000</td>\n",
       "      <td>4.701000e+03</td>\n",
       "    </tr>\n",
       "    <tr>\n",
       "      <th>autocorr_medtime</th>\n",
       "      <td>6.593759</td>\n",
       "      <td>0.000000</td>\n",
       "      <td>53.994305</td>\n",
       "      <td>0.014622</td>\n",
       "      <td>0.000000</td>\n",
       "      <td>1.357934e+03</td>\n",
       "    </tr>\n",
       "    <tr>\n",
       "      <th>n_relation_crupd</th>\n",
       "      <td>1.931728</td>\n",
       "      <td>0.000000</td>\n",
       "      <td>38.498299</td>\n",
       "      <td>0.000000</td>\n",
       "      <td>0.000000</td>\n",
       "      <td>1.988000e+03</td>\n",
       "    </tr>\n",
       "    <tr>\n",
       "      <th>nmax_modif_byelem</th>\n",
       "      <td>4.063654</td>\n",
       "      <td>1.000000</td>\n",
       "      <td>20.712882</td>\n",
       "      <td>2.000000</td>\n",
       "      <td>1.000000</td>\n",
       "      <td>1.355000e+03</td>\n",
       "    </tr>\n",
       "    <tr>\n",
       "      <th>nmax_modif_byrelation</th>\n",
       "      <td>2.451187</td>\n",
       "      <td>0.000000</td>\n",
       "      <td>20.303590</td>\n",
       "      <td>1.000000</td>\n",
       "      <td>0.000000</td>\n",
       "      <td>1.355000e+03</td>\n",
       "    </tr>\n",
       "    <tr>\n",
       "      <th>n_elem_olddel</th>\n",
       "      <td>0.819426</td>\n",
       "      <td>0.000000</td>\n",
       "      <td>18.120654</td>\n",
       "      <td>0.000000</td>\n",
       "      <td>0.000000</td>\n",
       "      <td>9.400000e+02</td>\n",
       "    </tr>\n",
       "    <tr>\n",
       "      <th>n_node_olddel</th>\n",
       "      <td>0.791557</td>\n",
       "      <td>0.000000</td>\n",
       "      <td>17.723649</td>\n",
       "      <td>0.000000</td>\n",
       "      <td>0.000000</td>\n",
       "      <td>9.380000e+02</td>\n",
       "    </tr>\n",
       "    <tr>\n",
       "      <th>nmax_modif_byway</th>\n",
       "      <td>1.859993</td>\n",
       "      <td>1.000000</td>\n",
       "      <td>4.519208</td>\n",
       "      <td>2.000000</td>\n",
       "      <td>0.000000</td>\n",
       "      <td>1.340000e+02</td>\n",
       "    </tr>\n",
       "    <tr>\n",
       "      <th>n_relation_crdel</th>\n",
       "      <td>0.279189</td>\n",
       "      <td>0.000000</td>\n",
       "      <td>4.031304</td>\n",
       "      <td>0.000000</td>\n",
       "      <td>0.000000</td>\n",
       "      <td>1.810000e+02</td>\n",
       "    </tr>\n",
       "    <tr>\n",
       "      <th>n_rel_lastdel</th>\n",
       "      <td>0.279189</td>\n",
       "      <td>0.000000</td>\n",
       "      <td>4.023113</td>\n",
       "      <td>0.000000</td>\n",
       "      <td>0.000000</td>\n",
       "      <td>1.780000e+02</td>\n",
       "    </tr>\n",
       "    <tr>\n",
       "      <th>nmax_modif_bynode</th>\n",
       "      <td>1.402210</td>\n",
       "      <td>1.000000</td>\n",
       "      <td>3.685876</td>\n",
       "      <td>2.000000</td>\n",
       "      <td>0.000000</td>\n",
       "      <td>1.720000e+02</td>\n",
       "    </tr>\n",
       "    <tr>\n",
       "      <th>n_modif_byrelation</th>\n",
       "      <td>0.879453</td>\n",
       "      <td>0.000000</td>\n",
       "      <td>3.644258</td>\n",
       "      <td>1.000000</td>\n",
       "      <td>0.000000</td>\n",
       "      <td>1.400000e+02</td>\n",
       "    </tr>\n",
       "    <tr>\n",
       "      <th>n_modif_byelem</th>\n",
       "      <td>1.366672</td>\n",
       "      <td>1.000000</td>\n",
       "      <td>3.123006</td>\n",
       "      <td>0.000000</td>\n",
       "      <td>1.000000</td>\n",
       "      <td>1.400000e+02</td>\n",
       "    </tr>\n",
       "    <tr>\n",
       "      <th>n_way_olddel</th>\n",
       "      <td>0.024241</td>\n",
       "      <td>0.000000</td>\n",
       "      <td>0.905336</td>\n",
       "      <td>0.000000</td>\n",
       "      <td>0.000000</td>\n",
       "      <td>6.700000e+01</td>\n",
       "    </tr>\n",
       "    <tr>\n",
       "      <th>n_modif_bynode</th>\n",
       "      <td>0.777787</td>\n",
       "      <td>1.000000</td>\n",
       "      <td>0.576180</td>\n",
       "      <td>1.000000</td>\n",
       "      <td>0.000000</td>\n",
       "      <td>2.100000e+01</td>\n",
       "    </tr>\n",
       "    <tr>\n",
       "      <th>n_modif_byway</th>\n",
       "      <td>0.730376</td>\n",
       "      <td>1.000000</td>\n",
       "      <td>0.565613</td>\n",
       "      <td>1.000000</td>\n",
       "      <td>0.000000</td>\n",
       "      <td>8.000000e+00</td>\n",
       "    </tr>\n",
       "    <tr>\n",
       "      <th>n_rel_olddel</th>\n",
       "      <td>0.003628</td>\n",
       "      <td>0.000000</td>\n",
       "      <td>0.081143</td>\n",
       "      <td>0.000000</td>\n",
       "      <td>0.000000</td>\n",
       "      <td>3.000000e+00</td>\n",
       "    </tr>\n",
       "  </tbody>\n",
       "</table>\n",
       "</div>"
      ],
      "text/plain": [
       "                                mean          50%           std       qrange  \\\n",
       "n_modif                  5615.117909    15.000000  71668.275940   132.000000   \n",
       "n_elem                   5255.141326    12.000000  68226.427192   121.000000   \n",
       "n_elem_cr                4652.566293     4.000000  62212.211557    71.000000   \n",
       "n_nodemodif              4762.350923     8.000000  61103.221825   103.000000   \n",
       "n_elem_lastupd           4314.361313     4.000000  58964.434027    59.000000   \n",
       "n_node                   4489.855046     8.000000  58461.410918    98.000000   \n",
       "n_elem_crupd             3933.805079     1.000000  55607.914182    39.000000   \n",
       "n_node_cr                4038.940303     3.000000  53240.094917    63.000000   \n",
       "n_node_lastupd           3732.392810     3.000000  50763.939885    49.000000   \n",
       "n_node_crupd             3462.200528     1.000000  47957.585706    36.000000   \n",
       "n_waymodif                833.719162     3.000000  11182.006802    20.000000   \n",
       "n_way                     754.205970     2.000000  10486.870349    17.000000   \n",
       "n_way_cr                  609.143964     0.000000   9153.388992     7.000000   \n",
       "n_way_lastupd             577.765666     0.000000   9037.858104     6.000000   \n",
       "n_way_crupd               469.672823     0.000000   7973.261710     2.000000   \n",
       "n_elem_oldupd             601.745383     3.000000   7069.850087    25.000000   \n",
       "n_total_chgset           1508.017975    56.000000   6682.083466   782.250000   \n",
       "n_node_oldupd             450.109169     1.000000   5531.248490    13.000000   \n",
       "n_elem_lastdel            338.217843     0.000000   5213.306765     3.000000   \n",
       "n_elem_crmod              381.647098     0.000000   5017.304607     9.000000   \n",
       "n_node_lastdel            306.561511     0.000000   4833.052188     2.000000   \n",
       "n_elem_crdel              337.114116     0.000000   4222.963429     4.000000   \n",
       "nmax_modif_bychgset       576.993569     8.000000   4092.388128    65.000000   \n",
       "nmax_elem_bychgset        566.671504     8.000000   4079.571855    64.000000   \n",
       "n_node_crdel              305.456629     0.000000   3886.552794     3.000000   \n",
       "n_node_crmod              271.283146     0.000000   3817.636933     6.000000   \n",
       "n_way_oldupd              145.038918     1.000000   1941.510146     7.000000   \n",
       "n_way_crmod               108.092843     0.000000   1684.970291     2.000000   \n",
       "how_long                 1364.637960  1292.980943    863.011959  1262.841343   \n",
       "activity                  272.187202     0.087367    572.928689   221.954268   \n",
       "n_modif_bychgset           41.423978     2.500000    546.728493    11.000000   \n",
       "n_elem_bychgset            40.114941     2.000000    544.353796    11.000000   \n",
       "n_way_lastdel              31.377144     0.000000    462.412631     0.000000   \n",
       "n_way_crdel                31.378298     0.000000    436.634900     0.000000   \n",
       "corr_medtime              230.415643    79.672075    328.909611   337.788031   \n",
       "update_medtime            184.246428    35.257274    298.874919   252.332520   \n",
       "n_chgset                   30.870712     2.000000    246.954950     7.000000   \n",
       "n_relationmodif            19.047823     0.000000    206.220802     2.000000   \n",
       "n_relation                 11.082949     0.000000    146.973163     1.000000   \n",
       "meantime_between_chgset    40.977572     0.031338    137.420700    15.081934   \n",
       "n_rel_oldupd                6.597296     0.000000    102.797547     1.000000   \n",
       "n_relation_cr               4.482025     0.000000     86.114341     0.000000   \n",
       "n_rel_lastupd               4.202836     0.000000     84.402631     0.000000   \n",
       "n_relation_crmod            2.271108     0.000000     66.237016     0.000000   \n",
       "autocorr_medtime            6.593759     0.000000     53.994305     0.014622   \n",
       "n_relation_crupd            1.931728     0.000000     38.498299     0.000000   \n",
       "nmax_modif_byelem           4.063654     1.000000     20.712882     2.000000   \n",
       "nmax_modif_byrelation       2.451187     0.000000     20.303590     1.000000   \n",
       "n_elem_olddel               0.819426     0.000000     18.120654     0.000000   \n",
       "n_node_olddel               0.791557     0.000000     17.723649     0.000000   \n",
       "nmax_modif_byway            1.859993     1.000000      4.519208     2.000000   \n",
       "n_relation_crdel            0.279189     0.000000      4.031304     0.000000   \n",
       "n_rel_lastdel               0.279189     0.000000      4.023113     0.000000   \n",
       "nmax_modif_bynode           1.402210     1.000000      3.685876     2.000000   \n",
       "n_modif_byrelation          0.879453     0.000000      3.644258     1.000000   \n",
       "n_modif_byelem              1.366672     1.000000      3.123006     0.000000   \n",
       "n_way_olddel                0.024241     0.000000      0.905336     0.000000   \n",
       "n_modif_bynode              0.777787     1.000000      0.576180     1.000000   \n",
       "n_modif_byway               0.730376     1.000000      0.565613     1.000000   \n",
       "n_rel_olddel                0.003628     0.000000      0.081143     0.000000   \n",
       "\n",
       "                               min           max  \n",
       "n_modif                   1.000000  3.658020e+06  \n",
       "n_elem                    1.000000  3.508659e+06  \n",
       "n_elem_cr                 0.000000  3.186485e+06  \n",
       "n_nodemodif               0.000000  3.093087e+06  \n",
       "n_elem_lastupd            0.000000  3.002972e+06  \n",
       "n_node                    0.000000  2.977939e+06  \n",
       "n_elem_crupd              0.000000  2.890456e+06  \n",
       "n_node_cr                 0.000000  2.683380e+06  \n",
       "n_node_lastupd            0.000000  2.535201e+06  \n",
       "n_node_crupd              0.000000  2.440816e+06  \n",
       "n_waymodif                0.000000  5.614130e+05  \n",
       "n_way                     0.000000  5.281120e+05  \n",
       "n_way_cr                  0.000000  5.021920e+05  \n",
       "n_way_lastupd             0.000000  4.668990e+05  \n",
       "n_way_crupd               0.000000  4.489560e+05  \n",
       "n_elem_oldupd             0.000000  2.268790e+05  \n",
       "n_total_chgset            1.000000  2.777040e+05  \n",
       "n_node_oldupd             0.000000  1.770820e+05  \n",
       "n_elem_lastdel            0.000000  2.787940e+05  \n",
       "n_elem_crmod              0.000000  2.183190e+05  \n",
       "n_node_lastdel            0.000000  2.656430e+05  \n",
       "n_elem_crdel              0.000000  1.651190e+05  \n",
       "nmax_modif_bychgset       1.000000  5.010000e+04  \n",
       "nmax_elem_bychgset        1.000000  5.010000e+04  \n",
       "n_node_crdel              0.000000  1.593710e+05  \n",
       "n_node_crmod              0.000000  1.793380e+05  \n",
       "n_way_oldupd              0.000000  7.481700e+04  \n",
       "n_way_crmod               0.000000  6.901000e+04  \n",
       "how_long                 31.332234  4.357384e+03  \n",
       "activity                  0.000000  3.879762e+03  \n",
       "n_modif_bychgset          1.000000  2.285800e+04  \n",
       "n_elem_bychgset           1.000000  2.285800e+04  \n",
       "n_way_lastdel             0.000000  1.796800e+04  \n",
       "n_way_crdel               0.000000  1.660400e+04  \n",
       "corr_medtime              0.000000  2.949025e+03  \n",
       "update_medtime            0.000000  2.949025e+03  \n",
       "n_chgset                  1.000000  9.466000e+03  \n",
       "n_relationmodif           0.000000  6.321000e+03  \n",
       "n_relation                0.000000  4.751000e+03  \n",
       "meantime_between_chgset   0.000000  2.531057e+03  \n",
       "n_rel_oldupd              0.000000  4.741000e+03  \n",
       "n_relation_cr             0.000000  4.717000e+03  \n",
       "n_rel_lastupd             0.000000  4.706000e+03  \n",
       "n_relation_crmod          0.000000  4.701000e+03  \n",
       "autocorr_medtime          0.000000  1.357934e+03  \n",
       "n_relation_crupd          0.000000  1.988000e+03  \n",
       "nmax_modif_byelem         1.000000  1.355000e+03  \n",
       "nmax_modif_byrelation     0.000000  1.355000e+03  \n",
       "n_elem_olddel             0.000000  9.400000e+02  \n",
       "n_node_olddel             0.000000  9.380000e+02  \n",
       "nmax_modif_byway          0.000000  1.340000e+02  \n",
       "n_relation_crdel          0.000000  1.810000e+02  \n",
       "n_rel_lastdel             0.000000  1.780000e+02  \n",
       "nmax_modif_bynode         0.000000  1.720000e+02  \n",
       "n_modif_byrelation        0.000000  1.400000e+02  \n",
       "n_modif_byelem            1.000000  1.400000e+02  \n",
       "n_way_olddel              0.000000  6.700000e+01  \n",
       "n_modif_bynode            0.000000  2.100000e+01  \n",
       "n_modif_byway             0.000000  8.000000e+00  \n",
       "n_rel_olddel              0.000000  3.000000e+00  "
      ]
     },
     "execution_count": 325,
     "metadata": {},
     "output_type": "execute_result"
    }
   ],
   "source": [
    "# some stats sorted by descending standard deviation\n",
    "user_stat = dusers.drop('uid', axis=1).describe().T.sort_values(by='std', ascending=False)\n",
    "user_stat = user_stat.drop('count', axis=1)\n",
    "user_stat['qrange'] = user_stat['75%'] - user_stat['25%']\n",
    "user_stat[['mean', '50%', 'std', 'qrange', 'min', 'max']]"
   ]
  },
  {
   "cell_type": "markdown",
   "metadata": {},
   "source": [
    "### Corrélation"
   ]
  },
  {
   "cell_type": "code",
   "execution_count": 305,
   "metadata": {},
   "outputs": [
    {
     "data": {
      "text/plain": [
       "(60, 60)"
      ]
     },
     "execution_count": 305,
     "metadata": {},
     "output_type": "execute_result"
    }
   ],
   "source": [
    "# without the uid\n",
    "rho = dusers.drop('uid', axis=1).corr()\n",
    "rho.shape"
   ]
  },
  {
   "cell_type": "code",
   "execution_count": 306,
   "metadata": {},
   "outputs": [
    {
     "data": {
      "text/html": [
       "<div>\n",
       "<table border=\"1\" class=\"dataframe\">\n",
       "  <thead>\n",
       "    <tr style=\"text-align: right;\">\n",
       "      <th></th>\n",
       "      <th>n_chgset</th>\n",
       "      <th>n_modif_bychgset</th>\n",
       "      <th>nmax_modif_bychgset</th>\n",
       "      <th>n_elem_bychgset</th>\n",
       "      <th>nmax_elem_bychgset</th>\n",
       "      <th>meantime_between_chgset</th>\n",
       "      <th>n_modif</th>\n",
       "      <th>n_nodemodif</th>\n",
       "    </tr>\n",
       "  </thead>\n",
       "  <tbody>\n",
       "    <tr>\n",
       "      <th>n_chgset</th>\n",
       "      <td>1.000000</td>\n",
       "      <td>0.000201</td>\n",
       "      <td>0.358337</td>\n",
       "      <td>0.000407</td>\n",
       "      <td>0.354871</td>\n",
       "      <td>-0.028052</td>\n",
       "      <td>0.579601</td>\n",
       "      <td>0.585754</td>\n",
       "    </tr>\n",
       "    <tr>\n",
       "      <th>n_modif_bychgset</th>\n",
       "      <td>0.000201</td>\n",
       "      <td>1.000000</td>\n",
       "      <td>0.265225</td>\n",
       "      <td>0.997879</td>\n",
       "      <td>0.262164</td>\n",
       "      <td>-0.013422</td>\n",
       "      <td>0.083414</td>\n",
       "      <td>0.081668</td>\n",
       "    </tr>\n",
       "    <tr>\n",
       "      <th>nmax_modif_bychgset</th>\n",
       "      <td>0.358337</td>\n",
       "      <td>0.265225</td>\n",
       "      <td>1.000000</td>\n",
       "      <td>0.262972</td>\n",
       "      <td>0.998311</td>\n",
       "      <td>-0.021817</td>\n",
       "      <td>0.602428</td>\n",
       "      <td>0.593708</td>\n",
       "    </tr>\n",
       "    <tr>\n",
       "      <th>n_elem_bychgset</th>\n",
       "      <td>0.000407</td>\n",
       "      <td>0.997879</td>\n",
       "      <td>0.262972</td>\n",
       "      <td>1.000000</td>\n",
       "      <td>0.262592</td>\n",
       "      <td>-0.012919</td>\n",
       "      <td>0.083562</td>\n",
       "      <td>0.081760</td>\n",
       "    </tr>\n",
       "    <tr>\n",
       "      <th>nmax_elem_bychgset</th>\n",
       "      <td>0.354871</td>\n",
       "      <td>0.262164</td>\n",
       "      <td>0.998311</td>\n",
       "      <td>0.262592</td>\n",
       "      <td>1.000000</td>\n",
       "      <td>-0.022128</td>\n",
       "      <td>0.602019</td>\n",
       "      <td>0.593193</td>\n",
       "    </tr>\n",
       "    <tr>\n",
       "      <th>meantime_between_chgset</th>\n",
       "      <td>-0.028052</td>\n",
       "      <td>-0.013422</td>\n",
       "      <td>-0.021817</td>\n",
       "      <td>-0.012919</td>\n",
       "      <td>-0.022128</td>\n",
       "      <td>1.000000</td>\n",
       "      <td>-0.019483</td>\n",
       "      <td>-0.019393</td>\n",
       "    </tr>\n",
       "    <tr>\n",
       "      <th>n_modif</th>\n",
       "      <td>0.579601</td>\n",
       "      <td>0.083414</td>\n",
       "      <td>0.602428</td>\n",
       "      <td>0.083562</td>\n",
       "      <td>0.602019</td>\n",
       "      <td>-0.019483</td>\n",
       "      <td>1.000000</td>\n",
       "      <td>0.998253</td>\n",
       "    </tr>\n",
       "    <tr>\n",
       "      <th>n_nodemodif</th>\n",
       "      <td>0.585754</td>\n",
       "      <td>0.081668</td>\n",
       "      <td>0.593708</td>\n",
       "      <td>0.081760</td>\n",
       "      <td>0.593193</td>\n",
       "      <td>-0.019393</td>\n",
       "      <td>0.998253</td>\n",
       "      <td>1.000000</td>\n",
       "    </tr>\n",
       "  </tbody>\n",
       "</table>\n",
       "</div>"
      ],
      "text/plain": [
       "                         n_chgset  n_modif_bychgset  nmax_modif_bychgset  \\\n",
       "n_chgset                 1.000000          0.000201             0.358337   \n",
       "n_modif_bychgset         0.000201          1.000000             0.265225   \n",
       "nmax_modif_bychgset      0.358337          0.265225             1.000000   \n",
       "n_elem_bychgset          0.000407          0.997879             0.262972   \n",
       "nmax_elem_bychgset       0.354871          0.262164             0.998311   \n",
       "meantime_between_chgset -0.028052         -0.013422            -0.021817   \n",
       "n_modif                  0.579601          0.083414             0.602428   \n",
       "n_nodemodif              0.585754          0.081668             0.593708   \n",
       "\n",
       "                         n_elem_bychgset  nmax_elem_bychgset  \\\n",
       "n_chgset                        0.000407            0.354871   \n",
       "n_modif_bychgset                0.997879            0.262164   \n",
       "nmax_modif_bychgset             0.262972            0.998311   \n",
       "n_elem_bychgset                 1.000000            0.262592   \n",
       "nmax_elem_bychgset              0.262592            1.000000   \n",
       "meantime_between_chgset        -0.012919           -0.022128   \n",
       "n_modif                         0.083562            0.602019   \n",
       "n_nodemodif                     0.081760            0.593193   \n",
       "\n",
       "                         meantime_between_chgset   n_modif  n_nodemodif  \n",
       "n_chgset                               -0.028052  0.579601     0.585754  \n",
       "n_modif_bychgset                       -0.013422  0.083414     0.081668  \n",
       "nmax_modif_bychgset                    -0.021817  0.602428     0.593708  \n",
       "n_elem_bychgset                        -0.012919  0.083562     0.081760  \n",
       "nmax_elem_bychgset                     -0.022128  0.602019     0.593193  \n",
       "meantime_between_chgset                 1.000000 -0.019483    -0.019393  \n",
       "n_modif                                -0.019483  1.000000     0.998253  \n",
       "n_nodemodif                            -0.019393  0.998253     1.000000  "
      ]
     },
     "execution_count": 306,
     "metadata": {},
     "output_type": "execute_result"
    }
   ],
   "source": [
    "rho.iloc[:8, :8]"
   ]
  },
  {
   "cell_type": "code",
   "execution_count": 307,
   "metadata": {},
   "outputs": [
    {
     "data": {
      "text/plain": [
       "<matplotlib.axes._subplots.AxesSubplot at 0x7f209bd61748>"
      ]
     },
     "execution_count": 307,
     "metadata": {},
     "output_type": "execute_result"
    },
    {
     "data": {
      "image/png": "[encoded data removed]",
      "text/plain": [
       "<matplotlib.figure.Figure at 0x7f209bd65390>"
      ]
     },
     "metadata": {},
     "output_type": "display_data"
    }
   ],
   "source": [
    "sns.heatmap(rho, square=True)"
   ]
  },
  {
   "cell_type": "code",
   "execution_count": 26,
   "metadata": {},
   "outputs": [
    {
     "data": {
      "text/plain": [
       "<matplotlib.axes._subplots.AxesSubplot at 0x7f2cbb75e588>"
      ]
     },
     "execution_count": 26,
     "metadata": {},
     "output_type": "execute_result"
    },
    {
     "data": {
      "image/png": "[encoded data removed]",
      "text/plain": [
       "<matplotlib.figure.Figure at 0x7f2cbb7c7780>"
      ]
     },
     "metadata": {},
     "output_type": "display_data"
    }
   ],
   "source": [
    "sns.heatmap(rho.iloc[:8, :8], square=True, annot=True, fmt='.1f')"
   ]
  },
  {
   "cell_type": "markdown",
   "metadata": {},
   "source": [
    "### Features Functions"
   ]
  },
  {
   "cell_type": "markdown",
   "metadata": {},
   "source": [
    "Some fonctions which can help to select / remove some features before computing a KMeans or a PCA and which carry out data normalization."
   ]
  },
  {
   "cell_type": "code",
   "execution_count": 308,
   "metadata": {
    "collapsed": true
   },
   "outputs": [],
   "source": [
    "def init_features():\n",
    "    \"features without modif\"\n",
    "    return dusers.drop('uid', axis=1).copy()"
   ]
  },
  {
   "cell_type": "code",
   "execution_count": 309,
   "metadata": {
    "collapsed": true
   },
   "outputs": [],
   "source": [
    "def naive_norm(data):\n",
    "    \"\"\"Naive data normalization\n",
    "    \"\"\"\n",
    "    return (data - data.mean()) / data.std()"
   ]
  },
  {
   "cell_type": "code",
   "execution_count": 310,
   "metadata": {
    "collapsed": true
   },
   "outputs": [],
   "source": [
    "def naive_median_norm(data):\n",
    "    \"Naive data normalization with median\"\n",
    "    return (data - data.median()) / data.std()"
   ]
  },
  {
   "cell_type": "code",
   "execution_count": 311,
   "metadata": {
    "collapsed": true
   },
   "outputs": [],
   "source": [
    "def robust_norm(data):\n",
    "    \"\"\"Robust scale for normalization\n",
    "    \n",
    "    fit well with outliers\n",
    "    \n",
    "    Kind of (data - median) / (range 75 - 25 quantiles)\n",
    "    \"\"\"\n",
    "    scaler = RobustScaler()\n",
    "    result = scaler.fit_transform(data)\n",
    "    return pd.DataFrame(result, columns=data.columns)"
   ]
  },
  {
   "cell_type": "code",
   "execution_count": 313,
   "metadata": {
    "collapsed": true
   },
   "outputs": [],
   "source": [
    "def discard_cols(data, name):\n",
    "    \"Discard some cols with 'name' in it\"\n",
    "    col = [col for col in data.columns if name in col]\n",
    "    return data.drop(col, axis=1).copy()"
   ]
  },
  {
   "cell_type": "code",
   "execution_count": 28,
   "metadata": {
    "collapsed": true
   },
   "outputs": [],
   "source": [
    "# discard '*node*' cols\n",
    "discard_node_col = lambda x: discard_cols(x, 'node')\n",
    "# discard '_elem' cols\n",
    "discard_elem_col = lambda x: discard_cols(x, '_elem')"
   ]
  },
  {
   "cell_type": "code",
   "execution_count": 29,
   "metadata": {
    "collapsed": true
   },
   "outputs": [],
   "source": [
    "def add_changeset_ratio(data):\n",
    "    \"add number of changeset / total changeset ratio\"\n",
    "    result = data.copy()\n",
    "    data['n_chgset_ratio'] = data['n_chgset'] / data['n_total_chgset']\n",
    "    return data"
   ]
  },
  {
   "cell_type": "code",
   "execution_count": 30,
   "metadata": {
    "collapsed": true
   },
   "outputs": [],
   "source": [
    "# features[\"del_ratio\"] = features.n_elem_lastdel / features.n_elem"
   ]
  },
  {
   "cell_type": "markdown",
   "metadata": {},
   "source": [
    "### PCA"
   ]
  },
  {
   "cell_type": "code",
   "execution_count": 31,
   "metadata": {
    "collapsed": true
   },
   "outputs": [],
   "source": [
    "def compute_pca(n_components, features):\n",
    "    \"\"\"compute pca and return scores and loadings\n",
    "    \n",
    "    features: DataFrame (should be normalized)\n",
    "    \n",
    "    Results\n",
    "    \n",
    "    pca: pca model\n",
    "    scores: values in the reduced dimension space, aka z\n",
    "    loadings: weights by features and component\n",
    "    \"\"\"\n",
    "    pca = PCA(n_components=n_components)\n",
    "    X = pca.fit_transform(features.values)\n",
    "    nc = pca.components_.shape[0]\n",
    "    print(\"explained variance {}\".format(100. * pca.explained_variance_ratio_))\n",
    "    print(\"sum of explained variance {}\".format(100. * pca.explained_variance_ratio_.sum()))\n",
    "    pca_cols = ['PC' + str(i+1) for i in range(nc)]\n",
    "    scores = pd.DataFrame(X, columns=pca_cols)\n",
    "    loadings = pd.DataFrame(pca.components_, index=pca_cols, columns=features.columns).T\n",
    "    return pca, scores, loadings"
   ]
  },
  {
   "cell_type": "code",
   "execution_count": 32,
   "metadata": {},
   "outputs": [],
   "source": [
    "def correlation_circle(loadings, scores, x_comp=0, y_comp=1, threshold=0.1, explained=None):\n",
    "    \"\"\"draw a correlation circle form PCA results\n",
    "    \n",
    "    loadings: DataFrame\n",
    "       (n_features, n_components)\n",
    "    scores: DataFrame\n",
    "       (n_observation, n_features)\n",
    "    \"\"\"\n",
    "    #plt.Circle((0, 0), radius=10, color='g', fill=False)\n",
    "    circle = plt.Circle((0, 0), radius=1, color='grey', fill=False)\n",
    "    fsize = min(plt.rcParams['figure.figsize'])\n",
    "    fig, ax = plt.subplots(figsize=(fsize, fsize))\n",
    "    #fig = plt.gcf()\n",
    "    #fig.gca().add_artist(circle)\n",
    "    ax.add_artist(circle)\n",
    "    # Rescaling [-1, 1]\n",
    "    scalex = 1.0 / (pcscores.iloc[:, x_comp].max() - pcscores.iloc[:, x_comp].min())\n",
    "    scaley = 1.0 / (pcscores.iloc[:, x_comp].max() - pcscores.iloc[:, y_comp].min())\n",
    "    score_x = pcscores.copy().iloc[:, x_comp] * scalex\n",
    "    score_y = pcscores.copy().iloc[:, y_comp] * scaley\n",
    "    plt.scatter(score_x, score_y, marker='.')\n",
    "    # loop on each feature\n",
    "    for name, feature in loadings.iterrows():\n",
    "        x, y = feature.iloc[x_comp], feature.iloc[y_comp]\n",
    "        # do not draw the arrow\n",
    "        if math.sqrt(x ** 2 + y ** 2) < threshold:\n",
    "            continue\n",
    "        plt.arrow(0, 0, x, y, width=0.005, color='k', alpha=0.8)\n",
    "        plt.annotate(name, xy=(x,y))\n",
    "    # labels for x and y with (optional) explained variance for the components\n",
    "    xl = 'PC_' + str(x_comp+1)\n",
    "    yl = 'PC_' + str(y_comp+1)\n",
    "    xl = xl if explained is None else xl + ' ({:.2f}%)'.format(100. * explained[x_comp])\n",
    "    yl = yl if explained is None else yl + ' ({:.2f}%)'.format(100. * explained[y_comp])\n",
    "    plt.xlabel(xl)\n",
    "    plt.ylabel(yl)\n",
    "    plt.xlim((-1.1, 1.1))\n",
    "    plt.ylim((-1.1, 1.1))\n",
    "    plt.title(\"correlation circle PCA ({}, {})\".format(x_comp+1, y_comp+1))"
   ]
  },
  {
   "cell_type": "code",
   "execution_count": 326,
   "metadata": {},
   "outputs": [
    {
     "data": {
      "text/plain": [
       "(6064, 60)"
      ]
     },
     "execution_count": 326,
     "metadata": {},
     "output_type": "execute_result"
    }
   ],
   "source": [
    "features = init_features()\n",
    "# init shape\n",
    "features.shape"
   ]
  },
  {
   "cell_type": "markdown",
   "metadata": {},
   "source": [
    "#### PCA mle\n",
    "\n",
    "Just test the number of components taken by the 'mle' parameter"
   ]
  },
  {
   "cell_type": "code",
   "execution_count": 374,
   "metadata": {},
   "outputs": [
    {
     "data": {
      "text/plain": [
       "(6064, 49)"
      ]
     },
     "execution_count": 374,
     "metadata": {},
     "output_type": "execute_result"
    }
   ],
   "source": [
    "mle = PCA(n_components='mle', svd_solver='full')\n",
    "XMLE = mle.fit_transform(norm_features)\n",
    "XMLE.shape"
   ]
  },
  {
   "cell_type": "code",
   "execution_count": 373,
   "metadata": {},
   "outputs": [
    {
     "data": {
      "text/plain": [
       "array([  6.01944477e+01,   2.82270595e+01,   5.77022424e+00,\n",
       "         3.27467391e+00,   8.07409387e-01,   7.14803366e-01,\n",
       "         4.15415402e-01,   2.15472930e-01,   1.59086179e-01,\n",
       "         7.70689017e-02,   7.14717502e-02,   2.66124833e-02,\n",
       "         1.58085323e-02,   8.03603867e-03,   5.87044401e-03,\n",
       "         4.28560511e-03,   2.74469268e-03,   2.61940950e-03,\n",
       "         1.75342985e-03,   1.54771008e-03,   1.18597490e-03,\n",
       "         6.48880296e-04,   6.02788350e-04,   4.42372485e-04,\n",
       "         2.75134231e-04,   1.76529595e-04,   1.45338456e-04,\n",
       "         3.83099962e-05,   3.49914733e-05,   1.13026734e-05,\n",
       "         7.20105200e-06,   6.27606328e-06,   4.47380314e-06,\n",
       "         2.75526688e-06,   1.91523553e-06,   1.23343928e-06,\n",
       "         8.63187973e-07,   6.57305298e-07,   4.17391730e-07,\n",
       "         3.87307931e-07,   3.01484943e-07,   1.96478108e-07,\n",
       "         1.41934450e-08,   6.85554137e-27,   1.52757455e-27,\n",
       "         6.81135516e-28,   1.77916391e-28,   9.07727018e-30,\n",
       "         1.68944525e-30])"
      ]
     },
     "execution_count": 373,
     "metadata": {},
     "output_type": "execute_result"
    }
   ],
   "source": [
    "100 * mle.explained_variance_ratio_"
   ]
  },
  {
   "cell_type": "code",
   "execution_count": 378,
   "metadata": {},
   "outputs": [],
   "source": [
    "#sns.heatmap(mle.components_.T)"
   ]
  },
  {
   "cell_type": "code",
   "execution_count": 375,
   "metadata": {
    "collapsed": true
   },
   "outputs": [],
   "source": [
    "km_mle = KMeans(n_clusters=5)\n",
    "K_MLE = km_mle.fit_transform(XMLE)"
   ]
  },
  {
   "cell_type": "code",
   "execution_count": 376,
   "metadata": {},
   "outputs": [
    {
     "data": {
      "text/plain": [
       "54179870215.967033"
      ]
     },
     "execution_count": 376,
     "metadata": {},
     "output_type": "execute_result"
    }
   ],
   "source": [
    "km_mle.inertia_"
   ]
  },
  {
   "cell_type": "code",
   "execution_count": 379,
   "metadata": {},
   "outputs": [
    {
     "data": {
      "text/html": [
       "<div>\n",
       "<table border=\"1\" class=\"dataframe\">\n",
       "  <thead>\n",
       "    <tr style=\"text-align: right;\">\n",
       "      <th></th>\n",
       "      <th>median</th>\n",
       "      <th>count</th>\n",
       "    </tr>\n",
       "  </thead>\n",
       "  <tbody>\n",
       "    <tr>\n",
       "      <th>0</th>\n",
       "      <td>2.0</td>\n",
       "      <td>5985</td>\n",
       "    </tr>\n",
       "    <tr>\n",
       "      <th>2</th>\n",
       "      <td>8.0</td>\n",
       "      <td>45</td>\n",
       "    </tr>\n",
       "    <tr>\n",
       "      <th>3</th>\n",
       "      <td>837.5</td>\n",
       "      <td>10</td>\n",
       "    </tr>\n",
       "    <tr>\n",
       "      <th>4</th>\n",
       "      <td>885.0</td>\n",
       "      <td>23</td>\n",
       "    </tr>\n",
       "    <tr>\n",
       "      <th>1</th>\n",
       "      <td>3771.0</td>\n",
       "      <td>1</td>\n",
       "    </tr>\n",
       "  </tbody>\n",
       "</table>\n",
       "</div>"
      ],
      "text/plain": [
       "   median  count\n",
       "0     2.0   5985\n",
       "2     8.0     45\n",
       "3   837.5     10\n",
       "4   885.0     23\n",
       "1  3771.0      1"
      ]
     },
     "execution_count": 379,
     "metadata": {},
     "output_type": "execute_result"
    }
   ],
   "source": [
    "dusers.groupby(km_mle.labels_)['n_chgset'].agg(['median', 'count']).sort_values(by=\"median\")"
   ]
  },
  {
   "cell_type": "markdown",
   "metadata": {},
   "source": [
    "#### PCA classic\n",
    "\n",
    "Also, we removed some features."
   ]
  },
  {
   "cell_type": "code",
   "execution_count": 221,
   "metadata": {},
   "outputs": [
    {
     "data": {
      "text/plain": [
       "(6064, 47)"
      ]
     },
     "execution_count": 221,
     "metadata": {},
     "output_type": "execute_result"
    }
   ],
   "source": [
    "# discard columnus with 'node'\n",
    "features = discard_node_col(features)\n",
    "features.shape"
   ]
  },
  {
   "cell_type": "code",
   "execution_count": 329,
   "metadata": {},
   "outputs": [
    {
     "data": {
      "text/plain": [
       "(6064, 50)"
      ]
     },
     "execution_count": 329,
     "metadata": {},
     "output_type": "execute_result"
    }
   ],
   "source": [
    "features = add_changeset_ratio(features)\n",
    "features.shape"
   ]
  },
  {
   "cell_type": "code",
   "execution_count": 328,
   "metadata": {},
   "outputs": [
    {
     "data": {
      "text/plain": [
       "(6064, 49)"
      ]
     },
     "execution_count": 328,
     "metadata": {},
     "output_type": "execute_result"
    }
   ],
   "source": [
    "# try to drop all '*_elem' columns which are the sum of node + way + relation\n",
    "features = discard_elem_col(features)\n",
    "features.shape"
   ]
  },
  {
   "cell_type": "code",
   "execution_count": 224,
   "metadata": {},
   "outputs": [
    {
     "data": {
      "text/plain": [
       "(6064, 36)"
      ]
     },
     "execution_count": 224,
     "metadata": {},
     "output_type": "execute_result"
    }
   ],
   "source": [
    "# discard the col 'autocorr_medtime'\n",
    "features = discard_cols(features, 'autocorr_medtime')\n",
    "features.shape"
   ]
  },
  {
   "cell_type": "code",
   "execution_count": 94,
   "metadata": {},
   "outputs": [],
   "source": [
    "#features.del_ratio.describe()"
   ]
  },
  {
   "cell_type": "code",
   "execution_count": 330,
   "metadata": {},
   "outputs": [],
   "source": [
    "# Normalize the features\n",
    "#norm = lambda x: (x - x.mean()) / x.std()\n",
    "#norm_features = naive_norm(features)\n",
    "#norm_features = naive_median_norm(features)\n",
    "norm_features = robust_norm(features)"
   ]
  },
  {
   "cell_type": "code",
   "execution_count": 331,
   "metadata": {},
   "outputs": [],
   "source": [
    "#norm_features.describe().T"
   ]
  },
  {
   "cell_type": "code",
   "execution_count": 332,
   "metadata": {},
   "outputs": [
    {
     "name": "stdout",
     "output_type": "stream",
     "text": [
      "explained variance [ 60.19444775  28.22705952   5.77022424   3.27467391   0.80740939]\n",
      "sum of explained variance 98.27381481165047\n"
     ]
    }
   ],
   "source": [
    "pca, pcscores, loadings = compute_pca(5, norm_features)"
   ]
  },
  {
   "cell_type": "code",
   "execution_count": 135,
   "metadata": {
    "collapsed": true
   },
   "outputs": [],
   "source": [
    "#N_COMPONENTS = 5"
   ]
  },
  {
   "cell_type": "code",
   "execution_count": 205,
   "metadata": {},
   "outputs": [],
   "source": [
    "#pca = PCA(n_components=N_COMPONENTS)\n",
    "#X = pca.fit(norm_features).transform(norm_features)\n",
    "#print(\"explained variance {}\".format(100. * pca.explained_variance_ratio_))\n",
    "#print(\"sum of explained variance {}\".format(100. * pca.explained_variance_ratio_.sum()))"
   ]
  },
  {
   "cell_type": "code",
   "execution_count": 206,
   "metadata": {
    "collapsed": true
   },
   "outputs": [],
   "source": [
    "# Columns for the PCA\n",
    "#pca_cols = ['PC' + str(i+1) for i in range(N_COMPONENTS)]"
   ]
  },
  {
   "cell_type": "code",
   "execution_count": 138,
   "metadata": {},
   "outputs": [],
   "source": [
    "# pca scores in a DataFrame\n",
    "#pcscores = pd.DataFrame(X, columns=pca_cols)"
   ]
  },
  {
   "cell_type": "code",
   "execution_count": 207,
   "metadata": {},
   "outputs": [
    {
     "name": "stdout",
     "output_type": "stream",
     "text": [
      "shape : (6064, 5)\n"
     ]
    },
    {
     "data": {
      "text/html": [
       "<div>\n",
       "<table border=\"1\" class=\"dataframe\">\n",
       "  <thead>\n",
       "    <tr style=\"text-align: right;\">\n",
       "      <th></th>\n",
       "      <th>PC1</th>\n",
       "      <th>PC2</th>\n",
       "      <th>PC3</th>\n",
       "      <th>PC4</th>\n",
       "      <th>PC5</th>\n",
       "    </tr>\n",
       "  </thead>\n",
       "  <tbody>\n",
       "    <tr>\n",
       "      <th>0</th>\n",
       "      <td>-326.212232</td>\n",
       "      <td>-421.959216</td>\n",
       "      <td>-42.045986</td>\n",
       "      <td>-9.846332</td>\n",
       "      <td>-10.597466</td>\n",
       "    </tr>\n",
       "    <tr>\n",
       "      <th>1</th>\n",
       "      <td>-323.470385</td>\n",
       "      <td>-422.223291</td>\n",
       "      <td>-31.234836</td>\n",
       "      <td>-10.333276</td>\n",
       "      <td>-7.979472</td>\n",
       "    </tr>\n",
       "    <tr>\n",
       "      <th>2</th>\n",
       "      <td>-322.560535</td>\n",
       "      <td>-388.056402</td>\n",
       "      <td>-41.548190</td>\n",
       "      <td>-8.967629</td>\n",
       "      <td>-10.197620</td>\n",
       "    </tr>\n",
       "    <tr>\n",
       "      <th>3</th>\n",
       "      <td>-326.071115</td>\n",
       "      <td>-421.412394</td>\n",
       "      <td>-41.673152</td>\n",
       "      <td>-9.813349</td>\n",
       "      <td>-10.009109</td>\n",
       "    </tr>\n",
       "    <tr>\n",
       "      <th>4</th>\n",
       "      <td>-319.143512</td>\n",
       "      <td>-422.614139</td>\n",
       "      <td>-27.756610</td>\n",
       "      <td>-6.368707</td>\n",
       "      <td>-11.429725</td>\n",
       "    </tr>\n",
       "  </tbody>\n",
       "</table>\n",
       "</div>"
      ],
      "text/plain": [
       "          PC1         PC2        PC3        PC4        PC5\n",
       "0 -326.212232 -421.959216 -42.045986  -9.846332 -10.597466\n",
       "1 -323.470385 -422.223291 -31.234836 -10.333276  -7.979472\n",
       "2 -322.560535 -388.056402 -41.548190  -8.967629 -10.197620\n",
       "3 -326.071115 -421.412394 -41.673152  -9.813349 -10.009109\n",
       "4 -319.143512 -422.614139 -27.756610  -6.368707 -11.429725"
      ]
     },
     "execution_count": 207,
     "metadata": {},
     "output_type": "execute_result"
    }
   ],
   "source": [
    "print(\"shape : {}\".format(pcscores.shape))\n",
    "pcscores.head()"
   ]
  },
  {
   "cell_type": "code",
   "execution_count": 140,
   "metadata": {},
   "outputs": [],
   "source": [
    "# PCA components aka loadings in a dataframe\n",
    "#loadings = pd.DataFrame(pca.components_, index=pca_cols, columns=features.columns).T"
   ]
  },
  {
   "cell_type": "code",
   "execution_count": 208,
   "metadata": {},
   "outputs": [
    {
     "name": "stdout",
     "output_type": "stream",
     "text": [
      "shape: (37, 5)\n"
     ]
    },
    {
     "data": {
      "text/html": [
       "<div>\n",
       "<table border=\"1\" class=\"dataframe\">\n",
       "  <thead>\n",
       "    <tr style=\"text-align: right;\">\n",
       "      <th></th>\n",
       "      <th>PC1</th>\n",
       "      <th>PC2</th>\n",
       "      <th>PC3</th>\n",
       "      <th>PC4</th>\n",
       "      <th>PC5</th>\n",
       "    </tr>\n",
       "  </thead>\n",
       "  <tbody>\n",
       "    <tr>\n",
       "      <th>n_chgset</th>\n",
       "      <td>0.003135</td>\n",
       "      <td>-0.000195</td>\n",
       "      <td>0.020025</td>\n",
       "      <td>0.000927</td>\n",
       "      <td>0.006089</td>\n",
       "    </tr>\n",
       "    <tr>\n",
       "      <th>n_modif_bychgset</th>\n",
       "      <td>0.001160</td>\n",
       "      <td>-0.000178</td>\n",
       "      <td>-0.002558</td>\n",
       "      <td>-0.000270</td>\n",
       "      <td>-0.002842</td>\n",
       "    </tr>\n",
       "    <tr>\n",
       "      <th>nmax_modif_bychgset</th>\n",
       "      <td>0.007578</td>\n",
       "      <td>0.000119</td>\n",
       "      <td>0.025895</td>\n",
       "      <td>0.011009</td>\n",
       "      <td>0.022152</td>\n",
       "    </tr>\n",
       "    <tr>\n",
       "      <th>meantime_between_chgset</th>\n",
       "      <td>-0.000020</td>\n",
       "      <td>0.000191</td>\n",
       "      <td>-0.000111</td>\n",
       "      <td>-0.000065</td>\n",
       "      <td>-0.000102</td>\n",
       "    </tr>\n",
       "    <tr>\n",
       "      <th>n_modif</th>\n",
       "      <td>0.111952</td>\n",
       "      <td>-0.009978</td>\n",
       "      <td>0.174584</td>\n",
       "      <td>0.005507</td>\n",
       "      <td>0.102683</td>\n",
       "    </tr>\n",
       "  </tbody>\n",
       "</table>\n",
       "</div>"
      ],
      "text/plain": [
       "                              PC1       PC2       PC3       PC4       PC5\n",
       "n_chgset                 0.003135 -0.000195  0.020025  0.000927  0.006089\n",
       "n_modif_bychgset         0.001160 -0.000178 -0.002558 -0.000270 -0.002842\n",
       "nmax_modif_bychgset      0.007578  0.000119  0.025895  0.011009  0.022152\n",
       "meantime_between_chgset -0.000020  0.000191 -0.000111 -0.000065 -0.000102\n",
       "n_modif                  0.111952 -0.009978  0.174584  0.005507  0.102683"
      ]
     },
     "execution_count": 208,
     "metadata": {},
     "output_type": "execute_result"
    }
   ],
   "source": [
    "print('shape: {}'.format(loadings.shape))\n",
    "loadings.tail()\n",
    "loadings.head()"
   ]
  },
  {
   "cell_type": "code",
   "execution_count": 333,
   "metadata": {},
   "outputs": [
    {
     "data": {
      "text/plain": [
       "<matplotlib.axes._subplots.AxesSubplot at 0x7f209b9cc898>"
      ]
     },
     "execution_count": 333,
     "metadata": {},
     "output_type": "execute_result"
    },
    {
     "data": {
      "image/png": "[encoded data removed]",
      "text/plain": [
       "<matplotlib.figure.Figure at 0x7f209bb48ba8>"
      ]
     },
     "metadata": {},
     "output_type": "display_data"
    }
   ],
   "source": [
    "sns.heatmap(loadings)\n",
    "# also try\n",
    "# sns.heatmap(loadings ** 2)"
   ]
  },
  {
   "cell_type": "code",
   "execution_count": 334,
   "metadata": {},
   "outputs": [
    {
     "data": {
      "image/png": "[encoded data removed]",
      "text/plain": [
       "<matplotlib.figure.Figure at 0x7f209b9dce48>"
      ]
     },
     "metadata": {},
     "output_type": "display_data"
    }
   ],
   "source": [
    "correlation_circle(loadings, pcscores, 0, 1, explained=pca.explained_variance_ratio_)"
   ]
  },
  {
   "cell_type": "code",
   "execution_count": 335,
   "metadata": {},
   "outputs": [
    {
     "data": {
      "image/png": "[encoded data removed]",
      "text/plain": [
       "<matplotlib.figure.Figure at 0x7f209b831908>"
      ]
     },
     "metadata": {},
     "output_type": "display_data"
    }
   ],
   "source": [
    "correlation_circle(loadings, pcscores, 1, 2, explained=pca.explained_variance_ratio_)"
   ]
  },
  {
   "cell_type": "code",
   "execution_count": 101,
   "metadata": {},
   "outputs": [
    {
     "data": {
      "text/plain": [
       "<matplotlib.collections.PathCollection at 0x7f20a051e780>"
      ]
     },
     "execution_count": 101,
     "metadata": {},
     "output_type": "execute_result"
    },
    {
     "data": {
      "image/png": "[encoded data removed]",
      "text/plain": [
       "<matplotlib.figure.Figure at 0x7f20a05ef320>"
      ]
     },
     "metadata": {},
     "output_type": "display_data"
    }
   ],
   "source": [
    "# 1st and 2nd\n",
    "plt.scatter(pcscores.iloc[:, 0], pcscores.iloc[:, 1], marker='.')"
   ]
  },
  {
   "cell_type": "code",
   "execution_count": 81,
   "metadata": {},
   "outputs": [
    {
     "data": {
      "text/plain": [
       "<matplotlib.collections.PathCollection at 0x7f20a07e0710>"
      ]
     },
     "execution_count": 81,
     "metadata": {},
     "output_type": "execute_result"
    },
    {
     "data": {
      "image/png": "[encoded data removed]",
      "text/plain": [
       "<matplotlib.figure.Figure at 0x7f20a0700eb8>"
      ]
     },
     "metadata": {},
     "output_type": "display_data"
    }
   ],
   "source": [
    "plt.scatter(pcscores.iloc[:, 1], pcscores.iloc[:, 2], marker='.')"
   ]
  },
  {
   "cell_type": "markdown",
   "metadata": {},
   "source": [
    "### KMeans on PCA scores"
   ]
  },
  {
   "cell_type": "code",
   "execution_count": 83,
   "metadata": {},
   "outputs": [
    {
     "data": {
      "text/plain": [
       "[(0.8941176470588235, 0.10196078431372557, 0.10980392156862737),\n",
       " (0.21568627450980393, 0.4941176470588236, 0.7215686274509804),\n",
       " (0.3019607843137256, 0.6862745098039216, 0.29019607843137263),\n",
       " (0.5960784313725492, 0.3058823529411765, 0.6392156862745098),\n",
       " (1.0, 0.4980392156862745, 0.0),\n",
       " (0.9999999999999998, 1.0, 0.19999999999999996),\n",
       " (0.6509803921568629, 0.33725490196078434, 0.1568627450980391),\n",
       " (0.9686274509803922, 0.5058823529411766, 0.7490196078431374),\n",
       " (0.6, 0.6, 0.6)]"
      ]
     },
     "execution_count": 83,
     "metadata": {},
     "output_type": "execute_result"
    },
    {
     "data": {
      "image/png": "[encoded data removed]",
      "text/plain": [
       "<matplotlib.figure.Figure at 0x7f2cb94bcf28>"
      ]
     },
     "metadata": {},
     "output_type": "display_data"
    }
   ],
   "source": [
    "# choose a color palette for each label\n",
    "# according to 'N_COMPONENTS' of course\n",
    "sns.choose_colorbrewer_palette('qualitative')"
   ]
  },
  {
   "cell_type": "code",
   "execution_count": 336,
   "metadata": {
    "collapsed": true
   },
   "outputs": [],
   "source": [
    "#N_CLUSTERS = N_COMPONENTS\n",
    "N_CLUSTERS = 5\n",
    "#km = KMeans(n_clusters=N_COMPONENTS)\n",
    "km = KMeans(n_clusters=N_CLUSTERS)"
   ]
  },
  {
   "cell_type": "code",
   "execution_count": 337,
   "metadata": {
    "collapsed": true
   },
   "outputs": [],
   "source": [
    "K = km.fit_transform(pcscores)"
   ]
  },
  {
   "cell_type": "code",
   "execution_count": 338,
   "metadata": {
    "collapsed": true
   },
   "outputs": [],
   "source": [
    "#k_means_cluster_centers = np.sort(km.cluster_centers_, axis=0)\n",
    "#k_means_labels = pairwise_distances_argmin(pcscores.values, k_means_cluster_centers)"
   ]
  },
  {
   "cell_type": "code",
   "execution_count": 339,
   "metadata": {},
   "outputs": [
    {
     "data": {
      "text/plain": [
       "(5, 5)"
      ]
     },
     "execution_count": 339,
     "metadata": {},
     "output_type": "execute_result"
    }
   ],
   "source": [
    "#k_means_labels\n",
    "km.cluster_centers_.shape\n",
    "#km.labels_.shape"
   ]
  },
  {
   "cell_type": "code",
   "execution_count": 340,
   "metadata": {},
   "outputs": [
    {
     "data": {
      "text/plain": [
       "49670016548.189568"
      ]
     },
     "execution_count": 340,
     "metadata": {},
     "output_type": "execute_result"
    }
   ],
   "source": [
    "km.inertia_"
   ]
  },
  {
   "cell_type": "code",
   "execution_count": 341,
   "metadata": {},
   "outputs": [
    {
     "data": {
      "text/plain": [
       "array([0, 0, 0, ..., 0, 0, 0], dtype=int32)"
      ]
     },
     "execution_count": 341,
     "metadata": {},
     "output_type": "execute_result"
    }
   ],
   "source": [
    "km.labels_"
   ]
  },
  {
   "cell_type": "code",
   "execution_count": 342,
   "metadata": {},
   "outputs": [
    {
     "data": {
      "text/plain": [
       "<matplotlib.legend.Legend at 0x7f209b961a58>"
      ]
     },
     "execution_count": 342,
     "metadata": {},
     "output_type": "execute_result"
    },
    {
     "data": {
      "image/png": "[encoded data removed]",
      "text/plain": [
       "<matplotlib.figure.Figure at 0x7f209b7d1470>"
      ]
     },
     "metadata": {},
     "output_type": "display_data"
    }
   ],
   "source": [
    "# try to plot some PCA scatter plot with a color for each labels found by the KMean\n",
    "xdim, ydim = 0, 1\n",
    "for label, color in zip(range(N_CLUSTERS), sns.color_palette('Dark2', N_CLUSTERS)):\n",
    "    mask = (label == km.labels_)\n",
    "    plt.scatter(pcscores.iloc[mask, xdim], pcscores.iloc[mask, ydim],\n",
    "                color=color,\n",
    "                s=35,\n",
    "                alpha=0.8,\n",
    "                label=label)\n",
    "plt.legend(loc='best', shadow=False, scatterpoints=1)"
   ]
  },
  {
   "cell_type": "code",
   "execution_count": 356,
   "metadata": {},
   "outputs": [
    {
     "data": {
      "text/html": [
       "<div>\n",
       "<table border=\"1\" class=\"dataframe\">\n",
       "  <thead>\n",
       "    <tr style=\"text-align: right;\">\n",
       "      <th></th>\n",
       "      <th>median</th>\n",
       "      <th>count</th>\n",
       "      <th>n_ratio</th>\n",
       "    </tr>\n",
       "  </thead>\n",
       "  <tbody>\n",
       "    <tr>\n",
       "      <th>0</th>\n",
       "      <td>2</td>\n",
       "      <td>5987</td>\n",
       "      <td>98.730211</td>\n",
       "    </tr>\n",
       "    <tr>\n",
       "      <th>3</th>\n",
       "      <td>8</td>\n",
       "      <td>45</td>\n",
       "      <td>0.742084</td>\n",
       "    </tr>\n",
       "    <tr>\n",
       "      <th>1</th>\n",
       "      <td>863</td>\n",
       "      <td>22</td>\n",
       "      <td>0.362797</td>\n",
       "    </tr>\n",
       "    <tr>\n",
       "      <th>4</th>\n",
       "      <td>1002</td>\n",
       "      <td>9</td>\n",
       "      <td>0.148417</td>\n",
       "    </tr>\n",
       "    <tr>\n",
       "      <th>2</th>\n",
       "      <td>3771</td>\n",
       "      <td>1</td>\n",
       "      <td>0.016491</td>\n",
       "    </tr>\n",
       "  </tbody>\n",
       "</table>\n",
       "</div>"
      ],
      "text/plain": [
       "   median  count    n_ratio\n",
       "0       2   5987  98.730211\n",
       "3       8     45   0.742084\n",
       "1     863     22   0.362797\n",
       "4    1002      9   0.148417\n",
       "2    3771      1   0.016491"
      ]
     },
     "execution_count": 356,
     "metadata": {},
     "output_type": "execute_result"
    }
   ],
   "source": [
    "# sort the group of cluster according to the median of n_chgset for each cluster\n",
    "LABELS = ['beginner', 'regular', 'intermediate', 'expert', 'pro']\n",
    "dfcluster = dusers.groupby(km.labels_)['n_chgset'].agg(['median', 'count']).sort_values(by=\"median\")\n",
    "# dfcluster['label'] = LABELS\n",
    "dfcluster['n_ratio'] = 100. * dfcluster['count'] / dusers.shape[0]\n",
    "dfcluster"
   ]
  },
  {
   "cell_type": "code",
   "execution_count": 355,
   "metadata": {},
   "outputs": [
    {
     "data": {
      "text/plain": [
       "13.621372031662268"
      ]
     },
     "execution_count": 355,
     "metadata": {},
     "output_type": "execute_result"
    }
   ],
   "source": [
    "n_users = dusers.shape[0]\n",
    "100. * dusers.query(\"n_chgset > 20\").shape[0] / n_users"
   ]
  },
  {
   "cell_type": "code",
   "execution_count": 349,
   "metadata": {},
   "outputs": [
    {
     "data": {
      "text/html": [
       "<div>\n",
       "<table border=\"1\" class=\"dataframe\">\n",
       "  <thead>\n",
       "    <tr style=\"text-align: right;\">\n",
       "      <th></th>\n",
       "      <th>n_chgset</th>\n",
       "      <th>n_total_chgset</th>\n",
       "      <th>activity</th>\n",
       "      <th>autocorr_medtime</th>\n",
       "      <th>n_elem_cr</th>\n",
       "      <th>n_elem_lastupd</th>\n",
       "      <th>n_elem_lastdel</th>\n",
       "      <th>n_way</th>\n",
       "      <th>n_way_cr</th>\n",
       "      <th>n_way_crupd</th>\n",
       "      <th>n_way_crmod</th>\n",
       "    </tr>\n",
       "  </thead>\n",
       "  <tbody>\n",
       "    <tr>\n",
       "      <th>count</th>\n",
       "      <td>5987.000000</td>\n",
       "      <td>5987.000000</td>\n",
       "      <td>5987.000000</td>\n",
       "      <td>5987.000000</td>\n",
       "      <td>5987.000000</td>\n",
       "      <td>5987.000000</td>\n",
       "      <td>5987.000000</td>\n",
       "      <td>5987.000000</td>\n",
       "      <td>5987.000000</td>\n",
       "      <td>5987.000000</td>\n",
       "      <td>5987.000000</td>\n",
       "    </tr>\n",
       "    <tr>\n",
       "      <th>mean</th>\n",
       "      <td>21.934692</td>\n",
       "      <td>1479.920160</td>\n",
       "      <td>258.811752</td>\n",
       "      <td>2.474954</td>\n",
       "      <td>1209.232504</td>\n",
       "      <td>1140.027727</td>\n",
       "      <td>101.053115</td>\n",
       "      <td>235.132788</td>\n",
       "      <td>136.023551</td>\n",
       "      <td>91.341907</td>\n",
       "      <td>33.010356</td>\n",
       "    </tr>\n",
       "    <tr>\n",
       "      <th>std</th>\n",
       "      <td>147.574695</td>\n",
       "      <td>6684.441962</td>\n",
       "      <td>556.043884</td>\n",
       "      <td>16.996769</td>\n",
       "      <td>9302.862597</td>\n",
       "      <td>9214.590921</td>\n",
       "      <td>1302.829533</td>\n",
       "      <td>3933.384912</td>\n",
       "      <td>1230.635270</td>\n",
       "      <td>946.396353</td>\n",
       "      <td>398.189146</td>\n",
       "    </tr>\n",
       "    <tr>\n",
       "      <th>min</th>\n",
       "      <td>1.000000</td>\n",
       "      <td>1.000000</td>\n",
       "      <td>0.000000</td>\n",
       "      <td>0.000000</td>\n",
       "      <td>0.000000</td>\n",
       "      <td>0.000000</td>\n",
       "      <td>0.000000</td>\n",
       "      <td>0.000000</td>\n",
       "      <td>0.000000</td>\n",
       "      <td>0.000000</td>\n",
       "      <td>0.000000</td>\n",
       "    </tr>\n",
       "    <tr>\n",
       "      <th>25%</th>\n",
       "      <td>1.000000</td>\n",
       "      <td>4.000000</td>\n",
       "      <td>0.000012</td>\n",
       "      <td>0.000000</td>\n",
       "      <td>0.000000</td>\n",
       "      <td>0.000000</td>\n",
       "      <td>0.000000</td>\n",
       "      <td>0.000000</td>\n",
       "      <td>0.000000</td>\n",
       "      <td>0.000000</td>\n",
       "      <td>0.000000</td>\n",
       "    </tr>\n",
       "    <tr>\n",
       "      <th>50%</th>\n",
       "      <td>2.000000</td>\n",
       "      <td>54.000000</td>\n",
       "      <td>0.065833</td>\n",
       "      <td>0.000000</td>\n",
       "      <td>4.000000</td>\n",
       "      <td>4.000000</td>\n",
       "      <td>0.000000</td>\n",
       "      <td>2.000000</td>\n",
       "      <td>0.000000</td>\n",
       "      <td>0.000000</td>\n",
       "      <td>0.000000</td>\n",
       "    </tr>\n",
       "    <tr>\n",
       "      <th>75%</th>\n",
       "      <td>8.000000</td>\n",
       "      <td>762.000000</td>\n",
       "      <td>188.551053</td>\n",
       "      <td>0.012801</td>\n",
       "      <td>65.000000</td>\n",
       "      <td>55.000000</td>\n",
       "      <td>3.000000</td>\n",
       "      <td>16.000000</td>\n",
       "      <td>6.000000</td>\n",
       "      <td>2.000000</td>\n",
       "      <td>2.000000</td>\n",
       "    </tr>\n",
       "    <tr>\n",
       "      <th>max</th>\n",
       "      <td>4818.000000</td>\n",
       "      <td>277704.000000</td>\n",
       "      <td>3879.761921</td>\n",
       "      <td>275.982882</td>\n",
       "      <td>233268.000000</td>\n",
       "      <td>248545.000000</td>\n",
       "      <td>55814.000000</td>\n",
       "      <td>283883.000000</td>\n",
       "      <td>38917.000000</td>\n",
       "      <td>33599.000000</td>\n",
       "      <td>20540.000000</td>\n",
       "    </tr>\n",
       "  </tbody>\n",
       "</table>\n",
       "</div>"
      ],
      "text/plain": [
       "          n_chgset  n_total_chgset     activity  autocorr_medtime  \\\n",
       "count  5987.000000     5987.000000  5987.000000       5987.000000   \n",
       "mean     21.934692     1479.920160   258.811752          2.474954   \n",
       "std     147.574695     6684.441962   556.043884         16.996769   \n",
       "min       1.000000        1.000000     0.000000          0.000000   \n",
       "25%       1.000000        4.000000     0.000012          0.000000   \n",
       "50%       2.000000       54.000000     0.065833          0.000000   \n",
       "75%       8.000000      762.000000   188.551053          0.012801   \n",
       "max    4818.000000   277704.000000  3879.761921        275.982882   \n",
       "\n",
       "           n_elem_cr  n_elem_lastupd  n_elem_lastdel          n_way  \\\n",
       "count    5987.000000     5987.000000     5987.000000    5987.000000   \n",
       "mean     1209.232504     1140.027727      101.053115     235.132788   \n",
       "std      9302.862597     9214.590921     1302.829533    3933.384912   \n",
       "min         0.000000        0.000000        0.000000       0.000000   \n",
       "25%         0.000000        0.000000        0.000000       0.000000   \n",
       "50%         4.000000        4.000000        0.000000       2.000000   \n",
       "75%        65.000000       55.000000        3.000000      16.000000   \n",
       "max    233268.000000   248545.000000    55814.000000  283883.000000   \n",
       "\n",
       "           n_way_cr   n_way_crupd   n_way_crmod  \n",
       "count   5987.000000   5987.000000   5987.000000  \n",
       "mean     136.023551     91.341907     33.010356  \n",
       "std     1230.635270    946.396353    398.189146  \n",
       "min        0.000000      0.000000      0.000000  \n",
       "25%        0.000000      0.000000      0.000000  \n",
       "50%        0.000000      0.000000      0.000000  \n",
       "75%        6.000000      2.000000      2.000000  \n",
       "max    38917.000000  33599.000000  20540.000000  "
      ]
     },
     "execution_count": 349,
     "metadata": {},
     "output_type": "execute_result"
    }
   ],
   "source": [
    "dusers.loc[km.labels_ == 0, cols].describe()"
   ]
  },
  {
   "cell_type": "markdown",
   "metadata": {},
   "source": [
    "Split the first big label into 2 or 3 clusters"
   ]
  },
  {
   "cell_type": "markdown",
   "metadata": {},
   "source": [
    "### Try to split the huge first cluster into 2 or 3 parts"
   ]
  },
  {
   "cell_type": "code",
   "execution_count": 357,
   "metadata": {
    "collapsed": true
   },
   "outputs": [],
   "source": [
    "kmsplit = KMeans(n_clusters=2)"
   ]
  },
  {
   "cell_type": "code",
   "execution_count": 358,
   "metadata": {
    "collapsed": true
   },
   "outputs": [],
   "source": [
    "sub_features = norm_features[km.labels_ == 0]"
   ]
  },
  {
   "cell_type": "code",
   "execution_count": 359,
   "metadata": {
    "collapsed": true
   },
   "outputs": [],
   "source": [
    "KS = kmsplit.fit_transform(sub_features)"
   ]
  },
  {
   "cell_type": "code",
   "execution_count": 360,
   "metadata": {},
   "outputs": [
    {
     "data": {
      "text/plain": [
       "10512189523.917227"
      ]
     },
     "execution_count": 360,
     "metadata": {},
     "output_type": "execute_result"
    }
   ],
   "source": [
    "kmsplit.inertia_"
   ]
  },
  {
   "cell_type": "code",
   "execution_count": 361,
   "metadata": {},
   "outputs": [
    {
     "data": {
      "text/html": [
       "<div>\n",
       "<table border=\"1\" class=\"dataframe\">\n",
       "  <thead>\n",
       "    <tr style=\"text-align: right;\">\n",
       "      <th></th>\n",
       "      <th>median</th>\n",
       "      <th>count</th>\n",
       "    </tr>\n",
       "  </thead>\n",
       "  <tbody>\n",
       "    <tr>\n",
       "      <th>0</th>\n",
       "      <td>2.0</td>\n",
       "      <td>5937</td>\n",
       "    </tr>\n",
       "    <tr>\n",
       "      <th>1</th>\n",
       "      <td>17.5</td>\n",
       "      <td>50</td>\n",
       "    </tr>\n",
       "  </tbody>\n",
       "</table>\n",
       "</div>"
      ],
      "text/plain": [
       "   median  count\n",
       "0     2.0   5937\n",
       "1    17.5     50"
      ]
     },
     "execution_count": 361,
     "metadata": {},
     "output_type": "execute_result"
    }
   ],
   "source": [
    "dusers[km.labels_ == 0].groupby(kmsplit.labels_)['n_chgset'].agg(['median', 'count'])"
   ]
  },
  {
   "cell_type": "markdown",
   "metadata": {},
   "source": [
    "without the `autocorr_medtime`"
   ]
  },
  {
   "cell_type": "code",
   "execution_count": 362,
   "metadata": {
    "collapsed": true
   },
   "outputs": [],
   "source": [
    "KS2 = kmsplit.fit_transform(sub_features.drop('autocorr_medtime', axis=1))"
   ]
  },
  {
   "cell_type": "code",
   "execution_count": 363,
   "metadata": {},
   "outputs": [
    {
     "data": {
      "text/html": [
       "<div>\n",
       "<table border=\"1\" class=\"dataframe\">\n",
       "  <thead>\n",
       "    <tr style=\"text-align: right;\">\n",
       "      <th></th>\n",
       "      <th>median</th>\n",
       "      <th>count</th>\n",
       "    </tr>\n",
       "  </thead>\n",
       "  <tbody>\n",
       "    <tr>\n",
       "      <th>0</th>\n",
       "      <td>2</td>\n",
       "      <td>5954</td>\n",
       "    </tr>\n",
       "    <tr>\n",
       "      <th>1</th>\n",
       "      <td>241</td>\n",
       "      <td>33</td>\n",
       "    </tr>\n",
       "  </tbody>\n",
       "</table>\n",
       "</div>"
      ],
      "text/plain": [
       "   median  count\n",
       "0       2   5954\n",
       "1     241     33"
      ]
     },
     "execution_count": 363,
     "metadata": {},
     "output_type": "execute_result"
    }
   ],
   "source": [
    "dusers[km.labels_ == 0].groupby(kmsplit.labels_)['n_chgset'].agg(['median', 'count'])"
   ]
  },
  {
   "cell_type": "markdown",
   "metadata": {},
   "source": [
    "without the `n_way_crupd`"
   ]
  },
  {
   "cell_type": "code",
   "execution_count": 380,
   "metadata": {
    "collapsed": true
   },
   "outputs": [],
   "source": [
    "KS3 = kmsplit.fit_transform(sub_features.drop('n_way_crupd', axis=1))"
   ]
  },
  {
   "cell_type": "code",
   "execution_count": 381,
   "metadata": {},
   "outputs": [
    {
     "data": {
      "text/html": [
       "<div>\n",
       "<table border=\"1\" class=\"dataframe\">\n",
       "  <thead>\n",
       "    <tr style=\"text-align: right;\">\n",
       "      <th></th>\n",
       "      <th>median</th>\n",
       "      <th>count</th>\n",
       "    </tr>\n",
       "  </thead>\n",
       "  <tbody>\n",
       "    <tr>\n",
       "      <th>0</th>\n",
       "      <td>2.0</td>\n",
       "      <td>5937</td>\n",
       "    </tr>\n",
       "    <tr>\n",
       "      <th>1</th>\n",
       "      <td>17.5</td>\n",
       "      <td>50</td>\n",
       "    </tr>\n",
       "  </tbody>\n",
       "</table>\n",
       "</div>"
      ],
      "text/plain": [
       "   median  count\n",
       "0     2.0   5937\n",
       "1    17.5     50"
      ]
     },
     "execution_count": 381,
     "metadata": {},
     "output_type": "execute_result"
    }
   ],
   "source": [
    "dusers[km.labels_ == 0].groupby(kmsplit.labels_)['n_chgset'].agg(['median', 'count'])"
   ]
  },
  {
   "cell_type": "markdown",
   "metadata": {},
   "source": [
    "### Clustering with the data (instead of PCA)"
   ]
  },
  {
   "cell_type": "code",
   "execution_count": 119,
   "metadata": {
    "collapsed": true
   },
   "outputs": [],
   "source": [
    "kmfull = KMeans(n_clusters=5)"
   ]
  },
  {
   "cell_type": "code",
   "execution_count": 152,
   "metadata": {
    "collapsed": true
   },
   "outputs": [],
   "source": [
    "#KF = kmfull.fit_transform(features)\n",
    "KF = kmfull.fit_transform(robust_scaler.fit_transform(features))"
   ]
  },
  {
   "cell_type": "code",
   "execution_count": 153,
   "metadata": {},
   "outputs": [
    {
     "data": {
      "text/plain": [
       "30464225813.763168"
      ]
     },
     "execution_count": 153,
     "metadata": {},
     "output_type": "execute_result"
    }
   ],
   "source": [
    "kmfull.inertia_"
   ]
  },
  {
   "cell_type": "code",
   "execution_count": 154,
   "metadata": {},
   "outputs": [
    {
     "data": {
      "text/plain": [
       "0    5981\n",
       "1      13\n",
       "2      22\n",
       "3       1\n",
       "4      47\n",
       "dtype: int64"
      ]
     },
     "execution_count": 154,
     "metadata": {},
     "output_type": "execute_result"
    }
   ],
   "source": [
    "sf = pd.Series(kmfull.labels_)\n",
    "sf.groupby(sf).count()"
   ]
  },
  {
   "cell_type": "code",
   "execution_count": 264,
   "metadata": {},
   "outputs": [
    {
     "data": {
      "text/plain": [
       "3067"
      ]
     },
     "execution_count": 264,
     "metadata": {},
     "output_type": "execute_result"
    }
   ],
   "source": [
    "dusers.query(\"n_chgset <= 2\").shape[0]"
   ]
  },
  {
   "cell_type": "code",
   "execution_count": 258,
   "metadata": {
    "collapsed": true
   },
   "outputs": [],
   "source": [
    "n_total_contrib = dusers.shape[0]"
   ]
  },
  {
   "cell_type": "code",
   "execution_count": 263,
   "metadata": {},
   "outputs": [
    {
     "data": {
      "text/plain": [
       "49.43116240725474"
      ]
     },
     "execution_count": 263,
     "metadata": {},
     "output_type": "execute_result"
    }
   ],
   "source": [
    "2998 / n_total_contrib * 100."
   ]
  },
  {
   "cell_type": "code",
   "execution_count": 261,
   "metadata": {},
   "outputs": [
    {
     "data": {
      "text/plain": [
       "6065"
      ]
     },
     "execution_count": 261,
     "metadata": {},
     "output_type": "execute_result"
    }
   ],
   "source": [
    "n_total_contrib"
   ]
  },
  {
   "cell_type": "markdown",
   "metadata": {
    "collapsed": true
   },
   "source": [
    "### KMeans with (1) PCA and (2) features selection"
   ]
  },
  {
   "cell_type": "code",
   "execution_count": 211,
   "metadata": {},
   "outputs": [
    {
     "data": {
      "text/plain": [
       "(6064, 59)"
      ]
     },
     "execution_count": 211,
     "metadata": {},
     "output_type": "execute_result"
    }
   ],
   "source": [
    "features = init_features()\n",
    "features.shape"
   ]
  },
  {
   "cell_type": "code",
   "execution_count": 212,
   "metadata": {},
   "outputs": [
    {
     "data": {
      "text/plain": [
       "(6064, 36)"
      ]
     },
     "execution_count": 212,
     "metadata": {},
     "output_type": "execute_result"
    }
   ],
   "source": [
    "features = discard_node_col(features)\n",
    "features = add_changeset_ratio(features)\n",
    "features = discard_elem_col(features)\n",
    "#features = discard_cols(features, 'n_modif')\n",
    "features = discard_cols(features, 'autocorr_medtime')\n",
    "features.shape"
   ]
  },
  {
   "cell_type": "code",
   "execution_count": 213,
   "metadata": {
    "collapsed": true
   },
   "outputs": [],
   "source": [
    "#norm_features = robust_norm(features)\n",
    "norm_features = naive_norm(features)"
   ]
  },
  {
   "cell_type": "code",
   "execution_count": 238,
   "metadata": {},
   "outputs": [
    {
     "name": "stdout",
     "output_type": "stream",
     "text": [
      "explained variance [ 29.82278933   9.94864915   7.38219239   5.88669896   4.62758467\n",
      "   4.17575621   3.74286286   3.44960108   3.05790955   3.02530299]\n",
      "sum of explained variance 75.11934719553759\n"
     ]
    }
   ],
   "source": [
    "pca, pcscores, loadings = compute_pca(10, norm_features)"
   ]
  },
  {
   "cell_type": "code",
   "execution_count": 266,
   "metadata": {
    "collapsed": true
   },
   "outputs": [],
   "source": [
    "n_clusters = 5\n",
    "km_pca = KMeans(n_clusters)\n",
    "km_full = KMeans(n_clusters)"
   ]
  },
  {
   "cell_type": "code",
   "execution_count": 267,
   "metadata": {
    "collapsed": true
   },
   "outputs": [],
   "source": [
    "K1 = km_pca.fit_transform(pcscores)"
   ]
  },
  {
   "cell_type": "code",
   "execution_count": 268,
   "metadata": {
    "collapsed": true
   },
   "outputs": [],
   "source": [
    "K2 = km_full.fit_transform(norm_features)"
   ]
  },
  {
   "cell_type": "code",
   "execution_count": 269,
   "metadata": {},
   "outputs": [
    {
     "data": {
      "text/html": [
       "<div>\n",
       "<table border=\"1\" class=\"dataframe\">\n",
       "  <thead>\n",
       "    <tr style=\"text-align: right;\">\n",
       "      <th></th>\n",
       "      <th>median</th>\n",
       "      <th>count</th>\n",
       "      <th>n_ratio</th>\n",
       "    </tr>\n",
       "  </thead>\n",
       "  <tbody>\n",
       "    <tr>\n",
       "      <th>0</th>\n",
       "      <td>2</td>\n",
       "      <td>6024</td>\n",
       "      <td>99.340369</td>\n",
       "    </tr>\n",
       "    <tr>\n",
       "      <th>4</th>\n",
       "      <td>71</td>\n",
       "      <td>6</td>\n",
       "      <td>0.098945</td>\n",
       "    </tr>\n",
       "    <tr>\n",
       "      <th>1</th>\n",
       "      <td>757</td>\n",
       "      <td>22</td>\n",
       "      <td>0.362797</td>\n",
       "    </tr>\n",
       "    <tr>\n",
       "      <th>2</th>\n",
       "      <td>1731</td>\n",
       "      <td>11</td>\n",
       "      <td>0.181398</td>\n",
       "    </tr>\n",
       "    <tr>\n",
       "      <th>3</th>\n",
       "      <td>3771</td>\n",
       "      <td>1</td>\n",
       "      <td>0.016491</td>\n",
       "    </tr>\n",
       "  </tbody>\n",
       "</table>\n",
       "</div>"
      ],
      "text/plain": [
       "   median  count    n_ratio\n",
       "0       2   6024  99.340369\n",
       "4      71      6   0.098945\n",
       "1     757     22   0.362797\n",
       "2    1731     11   0.181398\n",
       "3    3771      1   0.016491"
      ]
     },
     "execution_count": 269,
     "metadata": {},
     "output_type": "execute_result"
    }
   ],
   "source": [
    "dfcluster_1 = dusers.groupby(km_pca.labels_)['n_chgset'].agg(['median', 'count']).sort_values(by=\"median\")\n",
    "# dfcluster['label'] = LABELS\n",
    "dfcluster_1['n_ratio'] = 100. * dfcluster_1['count'] / dusers.shape[0]\n",
    "dfcluster_1"
   ]
  },
  {
   "cell_type": "code",
   "execution_count": 181,
   "metadata": {},
   "outputs": [
    {
     "data": {
      "text/html": [
       "<div>\n",
       "<table border=\"1\" class=\"dataframe\">\n",
       "  <thead>\n",
       "    <tr style=\"text-align: right;\">\n",
       "      <th></th>\n",
       "      <th>median</th>\n",
       "      <th>count</th>\n",
       "      <th>n_ratio</th>\n",
       "    </tr>\n",
       "  </thead>\n",
       "  <tbody>\n",
       "    <tr>\n",
       "      <th>4</th>\n",
       "      <td>1</td>\n",
       "      <td>4</td>\n",
       "      <td>0.065963</td>\n",
       "    </tr>\n",
       "    <tr>\n",
       "      <th>0</th>\n",
       "      <td>2</td>\n",
       "      <td>6017</td>\n",
       "      <td>99.224934</td>\n",
       "    </tr>\n",
       "    <tr>\n",
       "      <th>2</th>\n",
       "      <td>325</td>\n",
       "      <td>7</td>\n",
       "      <td>0.115435</td>\n",
       "    </tr>\n",
       "    <tr>\n",
       "      <th>3</th>\n",
       "      <td>671</td>\n",
       "      <td>33</td>\n",
       "      <td>0.544195</td>\n",
       "    </tr>\n",
       "    <tr>\n",
       "      <th>1</th>\n",
       "      <td>4423</td>\n",
       "      <td>3</td>\n",
       "      <td>0.049472</td>\n",
       "    </tr>\n",
       "  </tbody>\n",
       "</table>\n",
       "</div>"
      ],
      "text/plain": [
       "   median  count    n_ratio\n",
       "4       1      4   0.065963\n",
       "0       2   6017  99.224934\n",
       "2     325      7   0.115435\n",
       "3     671     33   0.544195\n",
       "1    4423      3   0.049472"
      ]
     },
     "execution_count": 181,
     "metadata": {},
     "output_type": "execute_result"
    }
   ],
   "source": [
    "dfcluster_2 = dusers.groupby(km_full.labels_)['n_chgset'].agg(['median', 'count']).sort_values(by=\"median\")\n",
    "# dfcluster['label'] = LABELS\n",
    "dfcluster_2['n_ratio'] = 100. * dfcluster_2['count'] / dusers.shape[0]\n",
    "dfcluster_2"
   ]
  },
  {
   "cell_type": "code",
   "execution_count": 418,
   "metadata": {},
   "outputs": [
    {
     "data": {
      "text/plain": [
       "{148173}"
      ]
     },
     "execution_count": 418,
     "metadata": {},
     "output_type": "execute_result"
    }
   ],
   "source": [
    "# who is in cluster 3 in km_full and not in cluster 3 in km_pca????\n",
    "set(dusers[km_full.labels_ == 3].uid).difference(set(dusers[km_pca.labels_ == 1].uid))"
   ]
  },
  {
   "cell_type": "code",
   "execution_count": 419,
   "metadata": {},
   "outputs": [
    {
     "data": {
      "text/html": [
       "<div>\n",
       "<table border=\"1\" class=\"dataframe\">\n",
       "  <thead>\n",
       "    <tr style=\"text-align: right;\">\n",
       "      <th></th>\n",
       "      <th>uid</th>\n",
       "      <th>n_chgset</th>\n",
       "      <th>n_modif_bychgset</th>\n",
       "      <th>nmax_modif_bychgset</th>\n",
       "      <th>n_elem_bychgset</th>\n",
       "      <th>nmax_elem_bychgset</th>\n",
       "      <th>meantime_between_chgset</th>\n",
       "      <th>n_modif</th>\n",
       "      <th>n_nodemodif</th>\n",
       "      <th>n_waymodif</th>\n",
       "      <th>...</th>\n",
       "      <th>n_relation_crupd</th>\n",
       "      <th>n_elem_crmod</th>\n",
       "      <th>n_node_crmod</th>\n",
       "      <th>n_way_crmod</th>\n",
       "      <th>n_relation_crmod</th>\n",
       "      <th>n_elem_crdel</th>\n",
       "      <th>n_node_crdel</th>\n",
       "      <th>n_way_crdel</th>\n",
       "      <th>n_relation_crdel</th>\n",
       "      <th>n_total_chgset</th>\n",
       "    </tr>\n",
       "  </thead>\n",
       "  <tbody>\n",
       "    <tr>\n",
       "      <th>1248</th>\n",
       "      <td>148173</td>\n",
       "      <td>893</td>\n",
       "      <td>32.0</td>\n",
       "      <td>50000</td>\n",
       "      <td>32.0</td>\n",
       "      <td>50000</td>\n",
       "      <td>3.103317</td>\n",
       "      <td>448846</td>\n",
       "      <td>386433.0</td>\n",
       "      <td>62220.0</td>\n",
       "      <td>...</td>\n",
       "      <td>40.0</td>\n",
       "      <td>14985.0</td>\n",
       "      <td>11448.0</td>\n",
       "      <td>3519.0</td>\n",
       "      <td>18.0</td>\n",
       "      <td>32876.0</td>\n",
       "      <td>30010.0</td>\n",
       "      <td>2851.0</td>\n",
       "      <td>15.0</td>\n",
       "      <td>1575</td>\n",
       "    </tr>\n",
       "  </tbody>\n",
       "</table>\n",
       "<p>1 rows × 60 columns</p>\n",
       "</div>"
      ],
      "text/plain": [
       "         uid  n_chgset  n_modif_bychgset  nmax_modif_bychgset  \\\n",
       "1248  148173       893              32.0                50000   \n",
       "\n",
       "      n_elem_bychgset  nmax_elem_bychgset  meantime_between_chgset  n_modif  \\\n",
       "1248             32.0               50000                 3.103317   448846   \n",
       "\n",
       "      n_nodemodif  n_waymodif       ...        n_relation_crupd  n_elem_crmod  \\\n",
       "1248     386433.0     62220.0       ...                    40.0       14985.0   \n",
       "\n",
       "      n_node_crmod  n_way_crmod  n_relation_crmod  n_elem_crdel  n_node_crdel  \\\n",
       "1248       11448.0       3519.0              18.0       32876.0       30010.0   \n",
       "\n",
       "      n_way_crdel  n_relation_crdel  n_total_chgset  \n",
       "1248       2851.0              15.0            1575  \n",
       "\n",
       "[1 rows x 60 columns]"
      ]
     },
     "execution_count": 419,
     "metadata": {},
     "output_type": "execute_result"
    }
   ],
   "source": [
    "dusers.query(\"uid == 148173\")"
   ]
  },
  {
   "cell_type": "code",
   "execution_count": 404,
   "metadata": {},
   "outputs": [
    {
     "data": {
      "text/plain": [
       "(array([10610]), array([10610]))"
      ]
     },
     "execution_count": 404,
     "metadata": {},
     "output_type": "execute_result"
    }
   ],
   "source": [
    "# Check if the user in the last label is the same\n",
    "dusers[km_pca.labels_ == 3].uid.values, dusers[km_full.labels_ == 1].uid.values"
   ]
  },
  {
   "cell_type": "code",
   "execution_count": 408,
   "metadata": {},
   "outputs": [
    {
     "data": {
      "text/html": [
       "<div>\n",
       "<table border=\"1\" class=\"dataframe\">\n",
       "  <thead>\n",
       "    <tr style=\"text-align: right;\">\n",
       "      <th></th>\n",
       "      <th>full</th>\n",
       "      <th>pca</th>\n",
       "    </tr>\n",
       "  </thead>\n",
       "  <tbody>\n",
       "    <tr>\n",
       "      <th>0</th>\n",
       "      <td>2488</td>\n",
       "      <td>2488</td>\n",
       "    </tr>\n",
       "    <tr>\n",
       "      <th>1</th>\n",
       "      <td>5112</td>\n",
       "      <td>5112</td>\n",
       "    </tr>\n",
       "    <tr>\n",
       "      <th>2</th>\n",
       "      <td>6053</td>\n",
       "      <td>6053</td>\n",
       "    </tr>\n",
       "    <tr>\n",
       "      <th>3</th>\n",
       "      <td>6703</td>\n",
       "      <td>6703</td>\n",
       "    </tr>\n",
       "    <tr>\n",
       "      <th>4</th>\n",
       "      <td>7412</td>\n",
       "      <td>7412</td>\n",
       "    </tr>\n",
       "  </tbody>\n",
       "</table>\n",
       "</div>"
      ],
      "text/plain": [
       "   full   pca\n",
       "0  2488  2488\n",
       "1  5112  5112\n",
       "2  6053  6053\n",
       "3  6703  6703\n",
       "4  7412  7412"
      ]
     },
     "execution_count": 408,
     "metadata": {},
     "output_type": "execute_result"
    }
   ],
   "source": [
    "# check for the 2nd group (i.e. 49 people)\n",
    "pd.DataFrame({\"pca\": dusers[km_pca.labels_ == 2].uid.values,\n",
    "              \"full\": dusers[km_full.labels_ == 2].uid.values}).head()"
   ]
  },
  {
   "cell_type": "markdown",
   "metadata": {},
   "source": [
    "### Get a look to the main PCA features"
   ]
  },
  {
   "cell_type": "markdown",
   "metadata": {},
   "source": [
    "* `autocorr_medtime`: durée médiane pendant laquelle une modification reste valide avant d'être amendée par l'utilisateur\n",
    "* `n_way_crupd`: nombre de ways créés par l'utilisateur et toujours dans leur version initiale\n",
    "* `n_way_crmod`: nombre ways créés par l'utilisateur et modifiés depuis leur création"
   ]
  },
  {
   "cell_type": "code",
   "execution_count": 348,
   "metadata": {
    "collapsed": true
   },
   "outputs": [],
   "source": [
    "cols = ['n_chgset', 'n_total_chgset', 'activity', 'autocorr_medtime',\n",
    "        'n_elem_cr', 'n_elem_lastupd', 'n_elem_lastdel',\n",
    "        'n_way', 'n_way_cr', 'n_way_crupd', 'n_way_crmod']"
   ]
  },
  {
   "cell_type": "code",
   "execution_count": 48,
   "metadata": {},
   "outputs": [
    {
     "data": {
      "text/html": [
       "<div>\n",
       "<table border=\"1\" class=\"dataframe\">\n",
       "  <thead>\n",
       "    <tr style=\"text-align: right;\">\n",
       "      <th></th>\n",
       "      <th>n_chgset</th>\n",
       "      <th>n_total_chgset</th>\n",
       "      <th>activity</th>\n",
       "      <th>autocorr_medtime</th>\n",
       "      <th>n_way</th>\n",
       "      <th>n_way_cr</th>\n",
       "      <th>n_way_crupd</th>\n",
       "      <th>n_way_crmod</th>\n",
       "    </tr>\n",
       "  </thead>\n",
       "  <tbody>\n",
       "    <tr>\n",
       "      <th>count</th>\n",
       "      <td>6001.000000</td>\n",
       "      <td>6001.000000</td>\n",
       "      <td>6001.000000</td>\n",
       "      <td>6001.000000</td>\n",
       "      <td>6001.000000</td>\n",
       "      <td>6001.000000</td>\n",
       "      <td>6001.000000</td>\n",
       "      <td>6001.000000</td>\n",
       "    </tr>\n",
       "    <tr>\n",
       "      <th>mean</th>\n",
       "      <td>25.769038</td>\n",
       "      <td>1490.015831</td>\n",
       "      <td>262.835158</td>\n",
       "      <td>2.334670</td>\n",
       "      <td>362.560407</td>\n",
       "      <td>251.933011</td>\n",
       "      <td>160.518747</td>\n",
       "      <td>67.749875</td>\n",
       "    </tr>\n",
       "    <tr>\n",
       "      <th>std</th>\n",
       "      <td>191.792849</td>\n",
       "      <td>6687.110168</td>\n",
       "      <td>563.740197</td>\n",
       "      <td>15.563654</td>\n",
       "      <td>4660.641370</td>\n",
       "      <td>2638.414682</td>\n",
       "      <td>1897.958855</td>\n",
       "      <td>1032.066875</td>\n",
       "    </tr>\n",
       "    <tr>\n",
       "      <th>min</th>\n",
       "      <td>1.000000</td>\n",
       "      <td>1.000000</td>\n",
       "      <td>0.000000</td>\n",
       "      <td>0.000000</td>\n",
       "      <td>0.000000</td>\n",
       "      <td>0.000000</td>\n",
       "      <td>0.000000</td>\n",
       "      <td>0.000000</td>\n",
       "    </tr>\n",
       "    <tr>\n",
       "      <th>25%</th>\n",
       "      <td>1.000000</td>\n",
       "      <td>4.000000</td>\n",
       "      <td>0.000012</td>\n",
       "      <td>0.000000</td>\n",
       "      <td>0.000000</td>\n",
       "      <td>0.000000</td>\n",
       "      <td>0.000000</td>\n",
       "      <td>0.000000</td>\n",
       "    </tr>\n",
       "    <tr>\n",
       "      <th>50%</th>\n",
       "      <td>2.000000</td>\n",
       "      <td>54.000000</td>\n",
       "      <td>0.067315</td>\n",
       "      <td>0.000000</td>\n",
       "      <td>2.000000</td>\n",
       "      <td>0.000000</td>\n",
       "      <td>0.000000</td>\n",
       "      <td>0.000000</td>\n",
       "    </tr>\n",
       "    <tr>\n",
       "      <th>75%</th>\n",
       "      <td>8.000000</td>\n",
       "      <td>773.000000</td>\n",
       "      <td>195.069352</td>\n",
       "      <td>0.012940</td>\n",
       "      <td>16.000000</td>\n",
       "      <td>7.000000</td>\n",
       "      <td>2.000000</td>\n",
       "      <td>2.000000</td>\n",
       "    </tr>\n",
       "    <tr>\n",
       "      <th>max</th>\n",
       "      <td>7764.000000</td>\n",
       "      <td>277704.000000</td>\n",
       "      <td>3879.761921</td>\n",
       "      <td>256.451076</td>\n",
       "      <td>283883.000000</td>\n",
       "      <td>65960.000000</td>\n",
       "      <td>52092.000000</td>\n",
       "      <td>54721.000000</td>\n",
       "    </tr>\n",
       "  </tbody>\n",
       "</table>\n",
       "</div>"
      ],
      "text/plain": [
       "          n_chgset  n_total_chgset     activity  autocorr_medtime  \\\n",
       "count  6001.000000     6001.000000  6001.000000       6001.000000   \n",
       "mean     25.769038     1490.015831   262.835158          2.334670   \n",
       "std     191.792849     6687.110168   563.740197         15.563654   \n",
       "min       1.000000        1.000000     0.000000          0.000000   \n",
       "25%       1.000000        4.000000     0.000012          0.000000   \n",
       "50%       2.000000       54.000000     0.067315          0.000000   \n",
       "75%       8.000000      773.000000   195.069352          0.012940   \n",
       "max    7764.000000   277704.000000  3879.761921        256.451076   \n",
       "\n",
       "               n_way      n_way_cr   n_way_crupd   n_way_crmod  \n",
       "count    6001.000000   6001.000000   6001.000000   6001.000000  \n",
       "mean      362.560407    251.933011    160.518747     67.749875  \n",
       "std      4660.641370   2638.414682   1897.958855   1032.066875  \n",
       "min         0.000000      0.000000      0.000000      0.000000  \n",
       "25%         0.000000      0.000000      0.000000      0.000000  \n",
       "50%         2.000000      0.000000      0.000000      0.000000  \n",
       "75%        16.000000      7.000000      2.000000      2.000000  \n",
       "max    283883.000000  65960.000000  52092.000000  54721.000000  "
      ]
     },
     "execution_count": 48,
     "metadata": {},
     "output_type": "execute_result"
    }
   ],
   "source": [
    "# cluster 1\n",
    "dusers[km_full.labels_ == 0][cols].describe()"
   ]
  },
  {
   "cell_type": "code",
   "execution_count": 415,
   "metadata": {},
   "outputs": [
    {
     "data": {
      "text/html": [
       "<div>\n",
       "<table border=\"1\" class=\"dataframe\">\n",
       "  <thead>\n",
       "    <tr style=\"text-align: right;\">\n",
       "      <th></th>\n",
       "      <th>n_chgset</th>\n",
       "      <th>n_total_chgset</th>\n",
       "      <th>autocorr_medtime</th>\n",
       "      <th>n_way</th>\n",
       "      <th>n_way_cr</th>\n",
       "      <th>n_way_crupd</th>\n",
       "      <th>n_way_crmod</th>\n",
       "    </tr>\n",
       "  </thead>\n",
       "  <tbody>\n",
       "    <tr>\n",
       "      <th>count</th>\n",
       "      <td>49.000000</td>\n",
       "      <td>49.000000</td>\n",
       "      <td>49.000000</td>\n",
       "      <td>49.000000</td>\n",
       "      <td>49.000000</td>\n",
       "      <td>49.000000</td>\n",
       "      <td>49.000000</td>\n",
       "    </tr>\n",
       "    <tr>\n",
       "      <th>mean</th>\n",
       "      <td>62.489796</td>\n",
       "      <td>1738.387755</td>\n",
       "      <td>526.258052</td>\n",
       "      <td>1878.489796</td>\n",
       "      <td>1752.346939</td>\n",
       "      <td>1567.408163</td>\n",
       "      <td>130.142857</td>\n",
       "    </tr>\n",
       "    <tr>\n",
       "      <th>std</th>\n",
       "      <td>183.827265</td>\n",
       "      <td>3641.549229</td>\n",
       "      <td>243.819988</td>\n",
       "      <td>5892.457043</td>\n",
       "      <td>5747.894620</td>\n",
       "      <td>5359.612933</td>\n",
       "      <td>413.617678</td>\n",
       "    </tr>\n",
       "    <tr>\n",
       "      <th>min</th>\n",
       "      <td>2.000000</td>\n",
       "      <td>2.000000</td>\n",
       "      <td>270.576823</td>\n",
       "      <td>0.000000</td>\n",
       "      <td>0.000000</td>\n",
       "      <td>0.000000</td>\n",
       "      <td>0.000000</td>\n",
       "    </tr>\n",
       "    <tr>\n",
       "      <th>25%</th>\n",
       "      <td>5.000000</td>\n",
       "      <td>23.000000</td>\n",
       "      <td>323.642292</td>\n",
       "      <td>6.000000</td>\n",
       "      <td>1.000000</td>\n",
       "      <td>0.000000</td>\n",
       "      <td>0.000000</td>\n",
       "    </tr>\n",
       "    <tr>\n",
       "      <th>50%</th>\n",
       "      <td>8.000000</td>\n",
       "      <td>136.000000</td>\n",
       "      <td>468.982541</td>\n",
       "      <td>26.000000</td>\n",
       "      <td>16.000000</td>\n",
       "      <td>3.000000</td>\n",
       "      <td>6.000000</td>\n",
       "    </tr>\n",
       "    <tr>\n",
       "      <th>75%</th>\n",
       "      <td>39.000000</td>\n",
       "      <td>1181.000000</td>\n",
       "      <td>637.993600</td>\n",
       "      <td>98.000000</td>\n",
       "      <td>42.000000</td>\n",
       "      <td>23.000000</td>\n",
       "      <td>16.000000</td>\n",
       "    </tr>\n",
       "    <tr>\n",
       "      <th>max</th>\n",
       "      <td>982.000000</td>\n",
       "      <td>16541.000000</td>\n",
       "      <td>1357.934468</td>\n",
       "      <td>32112.000000</td>\n",
       "      <td>31405.000000</td>\n",
       "      <td>29775.000000</td>\n",
       "      <td>2414.000000</td>\n",
       "    </tr>\n",
       "  </tbody>\n",
       "</table>\n",
       "</div>"
      ],
      "text/plain": [
       "         n_chgset  n_total_chgset  autocorr_medtime         n_way  \\\n",
       "count   49.000000       49.000000         49.000000     49.000000   \n",
       "mean    62.489796     1738.387755        526.258052   1878.489796   \n",
       "std    183.827265     3641.549229        243.819988   5892.457043   \n",
       "min      2.000000        2.000000        270.576823      0.000000   \n",
       "25%      5.000000       23.000000        323.642292      6.000000   \n",
       "50%      8.000000      136.000000        468.982541     26.000000   \n",
       "75%     39.000000     1181.000000        637.993600     98.000000   \n",
       "max    982.000000    16541.000000       1357.934468  32112.000000   \n",
       "\n",
       "           n_way_cr   n_way_crupd  n_way_crmod  \n",
       "count     49.000000     49.000000    49.000000  \n",
       "mean    1752.346939   1567.408163   130.142857  \n",
       "std     5747.894620   5359.612933   413.617678  \n",
       "min        0.000000      0.000000     0.000000  \n",
       "25%        1.000000      0.000000     0.000000  \n",
       "50%       16.000000      3.000000     6.000000  \n",
       "75%       42.000000     23.000000    16.000000  \n",
       "max    31405.000000  29775.000000  2414.000000  "
      ]
     },
     "execution_count": 415,
     "metadata": {},
     "output_type": "execute_result"
    }
   ],
   "source": [
    "# cluster 2\n",
    "dusers[km_full.labels_ == 2][cols].describe()"
   ]
  },
  {
   "cell_type": "code",
   "execution_count": 416,
   "metadata": {},
   "outputs": [
    {
     "data": {
      "text/html": [
       "<div>\n",
       "<table border=\"1\" class=\"dataframe\">\n",
       "  <thead>\n",
       "    <tr style=\"text-align: right;\">\n",
       "      <th></th>\n",
       "      <th>n_chgset</th>\n",
       "      <th>n_total_chgset</th>\n",
       "      <th>autocorr_medtime</th>\n",
       "      <th>n_way</th>\n",
       "      <th>n_way_cr</th>\n",
       "      <th>n_way_crupd</th>\n",
       "      <th>n_way_crmod</th>\n",
       "    </tr>\n",
       "  </thead>\n",
       "  <tbody>\n",
       "    <tr>\n",
       "      <th>count</th>\n",
       "      <td>16.000000</td>\n",
       "      <td>16.000000</td>\n",
       "      <td>16.000000</td>\n",
       "      <td>16.000000</td>\n",
       "      <td>16.00000</td>\n",
       "      <td>16.000000</td>\n",
       "      <td>16.000000</td>\n",
       "    </tr>\n",
       "    <tr>\n",
       "      <th>mean</th>\n",
       "      <td>1738.000000</td>\n",
       "      <td>7374.500000</td>\n",
       "      <td>1.487015</td>\n",
       "      <td>122045.625000</td>\n",
       "      <td>110178.93750</td>\n",
       "      <td>94404.500000</td>\n",
       "      <td>13344.562500</td>\n",
       "    </tr>\n",
       "    <tr>\n",
       "      <th>std</th>\n",
       "      <td>2423.643978</td>\n",
       "      <td>8984.623999</td>\n",
       "      <td>2.005376</td>\n",
       "      <td>44928.248567</td>\n",
       "      <td>44324.47403</td>\n",
       "      <td>42431.020919</td>\n",
       "      <td>20877.907475</td>\n",
       "    </tr>\n",
       "    <tr>\n",
       "      <th>min</th>\n",
       "      <td>35.000000</td>\n",
       "      <td>228.000000</td>\n",
       "      <td>0.004549</td>\n",
       "      <td>56724.000000</td>\n",
       "      <td>53330.00000</td>\n",
       "      <td>38721.000000</td>\n",
       "      <td>380.000000</td>\n",
       "    </tr>\n",
       "    <tr>\n",
       "      <th>25%</th>\n",
       "      <td>590.000000</td>\n",
       "      <td>824.500000</td>\n",
       "      <td>0.053811</td>\n",
       "      <td>96823.250000</td>\n",
       "      <td>75336.00000</td>\n",
       "      <td>53114.250000</td>\n",
       "      <td>1675.250000</td>\n",
       "    </tr>\n",
       "    <tr>\n",
       "      <th>50%</th>\n",
       "      <td>947.500000</td>\n",
       "      <td>1524.000000</td>\n",
       "      <td>0.542202</td>\n",
       "      <td>116658.000000</td>\n",
       "      <td>100497.00000</td>\n",
       "      <td>88326.000000</td>\n",
       "      <td>3978.500000</td>\n",
       "    </tr>\n",
       "    <tr>\n",
       "      <th>75%</th>\n",
       "      <td>1484.250000</td>\n",
       "      <td>14349.000000</td>\n",
       "      <td>2.699280</td>\n",
       "      <td>154324.250000</td>\n",
       "      <td>154172.75000</td>\n",
       "      <td>137547.250000</td>\n",
       "      <td>9843.500000</td>\n",
       "    </tr>\n",
       "    <tr>\n",
       "      <th>max</th>\n",
       "      <td>9466.000000</td>\n",
       "      <td>25475.000000</td>\n",
       "      <td>7.066157</td>\n",
       "      <td>205865.000000</td>\n",
       "      <td>176360.00000</td>\n",
       "      <td>159866.000000</td>\n",
       "      <td>69010.000000</td>\n",
       "    </tr>\n",
       "  </tbody>\n",
       "</table>\n",
       "</div>"
      ],
      "text/plain": [
       "          n_chgset  n_total_chgset  autocorr_medtime          n_way  \\\n",
       "count    16.000000       16.000000         16.000000      16.000000   \n",
       "mean   1738.000000     7374.500000          1.487015  122045.625000   \n",
       "std    2423.643978     8984.623999          2.005376   44928.248567   \n",
       "min      35.000000      228.000000          0.004549   56724.000000   \n",
       "25%     590.000000      824.500000          0.053811   96823.250000   \n",
       "50%     947.500000     1524.000000          0.542202  116658.000000   \n",
       "75%    1484.250000    14349.000000          2.699280  154324.250000   \n",
       "max    9466.000000    25475.000000          7.066157  205865.000000   \n",
       "\n",
       "           n_way_cr    n_way_crupd   n_way_crmod  \n",
       "count      16.00000      16.000000     16.000000  \n",
       "mean   110178.93750   94404.500000  13344.562500  \n",
       "std     44324.47403   42431.020919  20877.907475  \n",
       "min     53330.00000   38721.000000    380.000000  \n",
       "25%     75336.00000   53114.250000   1675.250000  \n",
       "50%    100497.00000   88326.000000   3978.500000  \n",
       "75%    154172.75000  137547.250000   9843.500000  \n",
       "max    176360.00000  159866.000000  69010.000000  "
      ]
     },
     "execution_count": 416,
     "metadata": {},
     "output_type": "execute_result"
    }
   ],
   "source": [
    "# cluster 3\n",
    "dusers[km_full.labels_ == 3][cols].describe()"
   ]
  },
  {
   "cell_type": "code",
   "execution_count": 417,
   "metadata": {},
   "outputs": [
    {
     "data": {
      "text/html": [
       "<div>\n",
       "<table border=\"1\" class=\"dataframe\">\n",
       "  <thead>\n",
       "    <tr style=\"text-align: right;\">\n",
       "      <th></th>\n",
       "      <th>n_chgset</th>\n",
       "      <th>n_total_chgset</th>\n",
       "      <th>autocorr_medtime</th>\n",
       "      <th>n_way</th>\n",
       "      <th>n_way_cr</th>\n",
       "      <th>n_way_crupd</th>\n",
       "      <th>n_way_crmod</th>\n",
       "    </tr>\n",
       "  </thead>\n",
       "  <tbody>\n",
       "    <tr>\n",
       "      <th>149</th>\n",
       "      <td>3771</td>\n",
       "      <td>4322</td>\n",
       "      <td>171.951042</td>\n",
       "      <td>528112.0</td>\n",
       "      <td>502192.0</td>\n",
       "      <td>448956.0</td>\n",
       "      <td>38791.0</td>\n",
       "    </tr>\n",
       "  </tbody>\n",
       "</table>\n",
       "</div>"
      ],
      "text/plain": [
       "     n_chgset  n_total_chgset  autocorr_medtime     n_way  n_way_cr  \\\n",
       "149      3771            4322        171.951042  528112.0  502192.0   \n",
       "\n",
       "     n_way_crupd  n_way_crmod  \n",
       "149     448956.0      38791.0  "
      ]
     },
     "execution_count": 417,
     "metadata": {},
     "output_type": "execute_result"
    }
   ],
   "source": [
    "# cluster 4\n",
    "dusers[km_full.labels_ == 1][cols]"
   ]
  },
  {
   "cell_type": "markdown",
   "metadata": {},
   "source": [
    "What features implies this user is unique (in comparison with the 3rd cluster)"
   ]
  },
  {
   "cell_type": "code",
   "execution_count": 425,
   "metadata": {},
   "outputs": [
    {
     "data": {
      "text/plain": [
       "<matplotlib.legend.Legend at 0x7f2cb80386d8>"
      ]
     },
     "execution_count": 425,
     "metadata": {},
     "output_type": "execute_result"
    },
    {
     "data": {
      "image/png": "[encoded data removed]",
      "text/plain": [
       "<matplotlib.figure.Figure at 0x7f2cb8057f98>"
      ]
     },
     "metadata": {},
     "output_type": "display_data"
    }
   ],
   "source": [
    "# try to plot some PCA scatter plot with a color for each labels found by the KMean\n",
    "xdim, ydim = 0, 1\n",
    "for label, color in zip(range(4), sns.color_palette('Dark2', 4)):\n",
    "    mask = (label == km.labels_)\n",
    "    plt.scatter(pcscores.iloc[mask, xdim], pcscores.iloc[mask, ydim],\n",
    "                color=color,\n",
    "                s=35,\n",
    "                alpha=0.8,\n",
    "                label=label)\n",
    "plt.legend(loc='best', shadow=False, scatterpoints=1)"
   ]
  },
  {
   "cell_type": "code",
   "execution_count": 426,
   "metadata": {},
   "outputs": [
    {
     "data": {
      "text/plain": [
       "<matplotlib.legend.Legend at 0x7f2cb80381d0>"
      ]
     },
     "execution_count": 426,
     "metadata": {},
     "output_type": "execute_result"
    },
    {
     "data": {
      "image/png": "[encoded data removed]",
      "text/plain": [
       "<matplotlib.figure.Figure at 0x7f2cb8038978>"
      ]
     },
     "metadata": {},
     "output_type": "display_data"
    }
   ],
   "source": [
    "# try to plot some PCA scatter plot with a color for each labels found by the KMean\n",
    "xdim, ydim = 1, 2\n",
    "for label, color in zip(range(4), sns.color_palette('Dark2', 4)):\n",
    "    mask = (label == km.labels_)\n",
    "    plt.scatter(pcscores.iloc[mask, xdim], pcscores.iloc[mask, ydim],\n",
    "                color=color,\n",
    "                s=35,\n",
    "                alpha=0.8,\n",
    "                label=label)\n",
    "plt.legend(loc='best', shadow=False, scatterpoints=1)"
   ]
  },
  {
   "cell_type": "code",
   "execution_count": 427,
   "metadata": {},
   "outputs": [
    {
     "data": {
      "text/plain": [
       "<matplotlib.legend.Legend at 0x7f2cb8038f98>"
      ]
     },
     "execution_count": 427,
     "metadata": {},
     "output_type": "execute_result"
    },
    {
     "data": {
      "image/png": "[encoded data removed]",
      "text/plain": [
       "<matplotlib.figure.Figure at 0x7f2cb8038240>"
      ]
     },
     "metadata": {},
     "output_type": "display_data"
    }
   ],
   "source": [
    "# try to plot some PCA scatter plot with a color for each labels found by the KMean\n",
    "xdim, ydim = 0, 2\n",
    "for label, color in zip(range(4), sns.color_palette('Dark2', 4)):\n",
    "    mask = (label == km.labels_)\n",
    "    plt.scatter(pcscores.iloc[mask, xdim], pcscores.iloc[mask, ydim],\n",
    "                color=color,\n",
    "                s=35,\n",
    "                alpha=0.8,\n",
    "                label=label)\n",
    "plt.legend(loc='best', shadow=False, scatterpoints=1)"
   ]
  },
  {
   "cell_type": "code",
   "execution_count": null,
   "metadata": {
    "collapsed": true
   },
   "outputs": [],
   "source": []
  }
 ],
 "metadata": {
  "kernelspec": {
   "display_name": "Python 3",
   "language": "python",
   "name": "python3"
  },
  "language_info": {
   "codemirror_mode": {
    "name": "ipython",
    "version": 3
   },
   "file_extension": ".py",
   "mimetype": "text/x-python",
   "name": "python",
   "nbconvert_exporter": "python",
   "pygments_lexer": "ipython3",
   "version": "3.5.2"
  }
 },
 "nbformat": 4,
 "nbformat_minor": 1
}
